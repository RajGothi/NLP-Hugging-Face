{
 "cells": [
  {
   "cell_type": "code",
   "execution_count": 2,
   "metadata": {},
   "outputs": [
    {
     "name": "stderr",
     "output_type": "stream",
     "text": [
      "/home/raj/.conda/envs/raj/lib/python3.11/site-packages/tqdm/auto.py:21: TqdmWarning: IProgress not found. Please update jupyter and ipywidgets. See https://ipywidgets.readthedocs.io/en/stable/user_install.html\n",
      "  from .autonotebook import tqdm as notebook_tqdm\n"
     ]
    }
   ],
   "source": [
    "#all the packages\n",
    "from transformers import pipeline"
   ]
  },
  {
   "cell_type": "code",
   "execution_count": 4,
   "metadata": {},
   "outputs": [
    {
     "name": "stderr",
     "output_type": "stream",
     "text": [
      "Downloading pytorch_model.bin: 100%|██████████| 10.7G/10.7G [01:50<00:00, 96.9MB/s]\n",
      "Downloading (…)okenizer_config.json: 100%|██████████| 200/200 [00:00<00:00, 683kB/s]\n",
      "Downloading (…)olve/main/vocab.json: 798kB [00:00, 9.26MB/s]\n",
      "Downloading (…)olve/main/merges.txt: 456kB [00:00, 9.90MB/s]\n",
      "Downloading (…)cial_tokens_map.json: 100%|██████████| 90.0/90.0 [00:00<00:00, 336kB/s]\n",
      "Xformers is not installed correctly. If you want to use memory_efficient_attention to accelerate training use the following command to install Xformers\n",
      "pip install xformers.\n"
     ]
    }
   ],
   "source": [
    "generator = pipeline('text-generation',model='EleutherAI/gpt-neo-2.7B')"
   ]
  },
  {
   "cell_type": "code",
   "execution_count": 9,
   "metadata": {},
   "outputs": [
    {
     "data": {
      "text/plain": [
       "<transformers.pipelines.text_generation.TextGenerationPipeline at 0x7efc2d1c2390>"
      ]
     },
     "execution_count": 9,
     "metadata": {},
     "output_type": "execute_result"
    }
   ],
   "source": [
    "generator"
   ]
  },
  {
   "cell_type": "code",
   "execution_count": 28,
   "metadata": {},
   "outputs": [
    {
     "name": "stderr",
     "output_type": "stream",
     "text": [
      "Setting `pad_token_id` to `eos_token_id`:50256 for open-end generation.\n"
     ]
    }
   ],
   "source": [
    "prompt = \"What is the Transformer?\"\n",
    "\n",
    "results = generator(prompt,max_length=200,do_sample=True)"
   ]
  },
  {
   "cell_type": "code",
   "execution_count": 29,
   "metadata": {},
   "outputs": [
    {
     "data": {
      "text/plain": [
       "[{'generated_text': 'What is the Transformer? In this series of articles, we are going to examine how the modern world uses technology to transform humans, and make them better, stronger, faster and smarter. We’re focusing on the use of technology for:\\n\\nScience and innovation-based technology\\n\\nArtificial Intelligence in the workplace\\n\\nArtificial Intelligence in the home\\n\\nArtificial Intelligence from the future\\n\\nArtificial Intelligence from the past\\n\\nIn this article, we are going to explore the transformer, and why it is so useful to society?\\n\\nThe Transformer is a modern robot. In this series of articles, we are going to explore the different uses of the transformer, from the world of science and robotics, to the home, the workplace and even the future.\\n\\nThe Transformer is our last article in this series, and we are focusing on this modern day application, made possible by science and technology.\\n\\nThe Transformer has been'}]"
      ]
     },
     "execution_count": 29,
     "metadata": {},
     "output_type": "execute_result"
    }
   ],
   "source": [
    "results"
   ]
  },
  {
   "cell_type": "code",
   "execution_count": 30,
   "metadata": {},
   "outputs": [
    {
     "name": "stdout",
     "output_type": "stream",
     "text": [
      "What is the Transformer? In this series of articles, we are going to examine how the modern world uses technology to transform humans, and make them better, stronger, faster and smarter. We’re focusing on the use of technology for:\n",
      "\n",
      "Science and innovation-based technology\n",
      "\n",
      "Artificial Intelligence in the workplace\n",
      "\n",
      "Artificial Intelligence in the home\n",
      "\n",
      "Artificial Intelligence from the future\n",
      "\n",
      "Artificial Intelligence from the past\n",
      "\n",
      "In this article, we are going to explore the transformer, and why it is so useful to society?\n",
      "\n",
      "The Transformer is a modern robot. In this series of articles, we are going to explore the different uses of the transformer, from the world of science and robotics, to the home, the workplace and even the future.\n",
      "\n",
      "The Transformer is our last article in this series, and we are focusing on this modern day application, made possible by science and technology.\n",
      "\n",
      "The Transformer has been\n"
     ]
    }
   ],
   "source": [
    "print(results[0]['generated_text'])"
   ]
  },
  {
   "cell_type": "code",
   "execution_count": null,
   "metadata": {},
   "outputs": [],
   "source": []
  }
 ],
 "metadata": {
  "kernelspec": {
   "display_name": "raj",
   "language": "python",
   "name": "python3"
  },
  "language_info": {
   "codemirror_mode": {
    "name": "ipython",
    "version": 3
   },
   "file_extension": ".py",
   "mimetype": "text/x-python",
   "name": "python",
   "nbconvert_exporter": "python",
   "pygments_lexer": "ipython3",
   "version": "3.11.3"
  },
  "orig_nbformat": 4
 },
 "nbformat": 4,
 "nbformat_minor": 2
}
