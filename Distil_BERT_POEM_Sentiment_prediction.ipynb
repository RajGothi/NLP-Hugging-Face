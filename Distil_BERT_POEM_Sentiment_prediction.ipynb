{
 "cells": [
  {
   "cell_type": "code",
   "execution_count": 2,
   "metadata": {},
   "outputs": [],
   "source": [
    "import pandas as pd\n",
    "import numpy as np\n",
    "from transformers import pipeline\n",
    "from wordcloud import WordCloud\n",
    "import seaborn as sns\n",
    "import matplotlib.pyplot as plt\n",
    "# import plotly.express as px\n",
    "import plotly.graph_objects as go\n",
    "import nltk\n",
    "from nltk.tokenize import word_tokenize\n",
    "from nltk.corpus import stopwords\n",
    "from nltk.stem import WordNetLemmatizer\n",
    "import nlp\n",
    "\n",
    "\n",
    "import torch\n",
    "import torch.nn.functional as F"
   ]
  },
  {
   "cell_type": "code",
   "execution_count": 3,
   "metadata": {},
   "outputs": [
    {
     "name": "stderr",
     "output_type": "stream",
     "text": [
      "Found cached dataset poem_sentiment (/home/raj/.cache/huggingface/datasets/poem_sentiment/default/1.0.0/4e44428256d42cdde0be6b3db1baa587195e91847adabf976e4f9454f6a82099)\n"
     ]
    },
    {
     "data": {
      "application/vnd.jupyter.widget-view+json": {
       "model_id": "9b9778c3469b4ab7b4a88c8409b6c945",
       "version_major": 2,
       "version_minor": 0
      },
      "text/plain": [
       "  0%|          | 0/3 [00:00<?, ?it/s]"
      ]
     },
     "metadata": {},
     "output_type": "display_data"
    }
   ],
   "source": [
    "from datasets import load_dataset\n",
    "\n",
    "ds_original_from_hf = load_dataset(\"poem_sentiment\")"
   ]
  },
  {
   "cell_type": "code",
   "execution_count": 4,
   "metadata": {},
   "outputs": [
    {
     "data": {
      "text/plain": [
       "DatasetDict({\n",
       "    train: Dataset({\n",
       "        features: ['id', 'verse_text', 'label'],\n",
       "        num_rows: 892\n",
       "    })\n",
       "    validation: Dataset({\n",
       "        features: ['id', 'verse_text', 'label'],\n",
       "        num_rows: 105\n",
       "    })\n",
       "    test: Dataset({\n",
       "        features: ['id', 'verse_text', 'label'],\n",
       "        num_rows: 104\n",
       "    })\n",
       "})"
      ]
     },
     "execution_count": 4,
     "metadata": {},
     "output_type": "execute_result"
    }
   ],
   "source": [
    "ds_original_from_hf"
   ]
  },
  {
   "cell_type": "code",
   "execution_count": 5,
   "metadata": {},
   "outputs": [
    {
     "data": {
      "text/plain": [
       "Dataset({\n",
       "    features: ['id', 'verse_text', 'label'],\n",
       "    num_rows: 892\n",
       "})"
      ]
     },
     "execution_count": 5,
     "metadata": {},
     "output_type": "execute_result"
    }
   ],
   "source": [
    "train_ds = ds_original_from_hf['train']\n",
    "train_ds"
   ]
  },
  {
   "cell_type": "code",
   "execution_count": 6,
   "metadata": {},
   "outputs": [],
   "source": [
    "label_names = ds_original_from_hf['train'].features['label'].names"
   ]
  },
  {
   "cell_type": "code",
   "execution_count": 7,
   "metadata": {},
   "outputs": [
    {
     "data": {
      "text/plain": [
       "{'id': Value(dtype='int32', id=None),\n",
       " 'verse_text': Value(dtype='string', id=None),\n",
       " 'label': ClassLabel(names=['negative', 'positive', 'no_impact', 'mixed'], id=None)}"
      ]
     },
     "execution_count": 7,
     "metadata": {},
     "output_type": "execute_result"
    }
   ],
   "source": [
    "ds_original_from_hf['train'].features"
   ]
  },
  {
   "cell_type": "code",
   "execution_count": 8,
   "metadata": {},
   "outputs": [
    {
     "data": {
      "text/plain": [
       "ClassLabel(names=['negative', 'positive', 'no_impact', 'mixed'], id=None)"
      ]
     },
     "execution_count": 8,
     "metadata": {},
     "output_type": "execute_result"
    }
   ],
   "source": [
    "ds_original_from_hf['train'].features['label']"
   ]
  },
  {
   "cell_type": "code",
   "execution_count": 9,
   "metadata": {},
   "outputs": [
    {
     "data": {
      "text/plain": [
       "['negative', 'positive', 'no_impact', 'mixed']"
      ]
     },
     "execution_count": 9,
     "metadata": {},
     "output_type": "execute_result"
    }
   ],
   "source": [
    "label_names"
   ]
  },
  {
   "cell_type": "code",
   "execution_count": 10,
   "metadata": {},
   "outputs": [
    {
     "data": {
      "text/plain": [
       "{'id': 0,\n",
       " 'verse_text': 'with pale blue berries. in these peaceful shades--',\n",
       " 'label': 1}"
      ]
     },
     "execution_count": 10,
     "metadata": {},
     "output_type": "execute_result"
    }
   ],
   "source": [
    "train_ds[0]"
   ]
  },
  {
   "cell_type": "code",
   "execution_count": 11,
   "metadata": {},
   "outputs": [
    {
     "data": {
      "text/plain": [
       "['id', 'verse_text', 'label']"
      ]
     },
     "execution_count": 11,
     "metadata": {},
     "output_type": "execute_result"
    }
   ],
   "source": [
    "train_ds.column_names"
   ]
  },
  {
   "cell_type": "code",
   "execution_count": 12,
   "metadata": {},
   "outputs": [
    {
     "data": {
      "text/html": [
       "<div>\n",
       "<style scoped>\n",
       "    .dataframe tbody tr th:only-of-type {\n",
       "        vertical-align: middle;\n",
       "    }\n",
       "\n",
       "    .dataframe tbody tr th {\n",
       "        vertical-align: top;\n",
       "    }\n",
       "\n",
       "    .dataframe thead th {\n",
       "        text-align: right;\n",
       "    }\n",
       "</style>\n",
       "<table border=\"1\" class=\"dataframe\">\n",
       "  <thead>\n",
       "    <tr style=\"text-align: right;\">\n",
       "      <th></th>\n",
       "      <th>id</th>\n",
       "      <th>verse_text</th>\n",
       "      <th>label</th>\n",
       "    </tr>\n",
       "  </thead>\n",
       "  <tbody>\n",
       "    <tr>\n",
       "      <th>0</th>\n",
       "      <td>0</td>\n",
       "      <td>with pale blue berries. in these peaceful shad...</td>\n",
       "      <td>1</td>\n",
       "    </tr>\n",
       "    <tr>\n",
       "      <th>1</th>\n",
       "      <td>1</td>\n",
       "      <td>it flows so long as falls the rain,</td>\n",
       "      <td>2</td>\n",
       "    </tr>\n",
       "    <tr>\n",
       "      <th>2</th>\n",
       "      <td>2</td>\n",
       "      <td>and that is why, the lonesome day,</td>\n",
       "      <td>0</td>\n",
       "    </tr>\n",
       "    <tr>\n",
       "      <th>3</th>\n",
       "      <td>3</td>\n",
       "      <td>when i peruse the conquered fame of heroes, an...</td>\n",
       "      <td>3</td>\n",
       "    </tr>\n",
       "    <tr>\n",
       "      <th>4</th>\n",
       "      <td>4</td>\n",
       "      <td>of inward strife for truth and liberty.</td>\n",
       "      <td>3</td>\n",
       "    </tr>\n",
       "  </tbody>\n",
       "</table>\n",
       "</div>"
      ],
      "text/plain": [
       "   id                                         verse_text  label\n",
       "0   0  with pale blue berries. in these peaceful shad...      1\n",
       "1   1                it flows so long as falls the rain,      2\n",
       "2   2                 and that is why, the lonesome day,      0\n",
       "3   3  when i peruse the conquered fame of heroes, an...      3\n",
       "4   4            of inward strife for truth and liberty.      3"
      ]
     },
     "execution_count": 12,
     "metadata": {},
     "output_type": "execute_result"
    }
   ],
   "source": [
    "train = pd.DataFrame(ds_original_from_hf['train'])\n",
    "train.head()"
   ]
  },
  {
   "cell_type": "code",
   "execution_count": 13,
   "metadata": {},
   "outputs": [
    {
     "data": {
      "image/png": "[encoded data removed]",
      "text/plain": [
       "<Figure size 640x480 with 1 Axes>"
      ]
     },
     "metadata": {},
     "output_type": "display_data"
    }
   ],
   "source": [
    "train['label'].value_counts(ascending=True).plot.barh()\n",
    "plt.show()"
   ]
  },
  {
   "cell_type": "code",
   "execution_count": 14,
   "metadata": {},
   "outputs": [],
   "source": [
    "from transformers import AutoTokenizer\n",
    "\n",
    "model_ckpt = 'distilbert-base-uncased'\n",
    "tokenizer = AutoTokenizer.from_pretrained(model_ckpt)"
   ]
  },
  {
   "cell_type": "code",
   "execution_count": 15,
   "metadata": {},
   "outputs": [
    {
     "data": {
      "text/plain": [
       "DistilBertTokenizerFast(name_or_path='distilbert-base-uncased', vocab_size=30522, model_max_length=512, is_fast=True, padding_side='right', truncation_side='right', special_tokens={'unk_token': '[UNK]', 'sep_token': '[SEP]', 'pad_token': '[PAD]', 'cls_token': '[CLS]', 'mask_token': '[MASK]'}, clean_up_tokenization_spaces=True)"
      ]
     },
     "execution_count": 15,
     "metadata": {},
     "output_type": "execute_result"
    }
   ],
   "source": [
    "tokenizer"
   ]
  },
  {
   "cell_type": "code",
   "execution_count": 16,
   "metadata": {},
   "outputs": [
    {
     "data": {
      "text/plain": [
       "{'distilbert-base-uncased': {'do_lower_case': True},\n",
       " 'distilbert-base-uncased-distilled-squad': {'do_lower_case': True},\n",
       " 'distilbert-base-cased': {'do_lower_case': False},\n",
       " 'distilbert-base-cased-distilled-squad': {'do_lower_case': False},\n",
       " 'distilbert-base-german-cased': {'do_lower_case': False},\n",
       " 'distilbert-base-multilingual-cased': {'do_lower_case': False}}"
      ]
     },
     "execution_count": 16,
     "metadata": {},
     "output_type": "execute_result"
    }
   ],
   "source": [
    "tokenizer.pretrained_init_configuration"
   ]
  },
  {
   "cell_type": "code",
   "execution_count": 17,
   "metadata": {},
   "outputs": [
    {
     "data": {
      "text/plain": [
       "{'andover': 29463,\n",
       " '##rito': 28414,\n",
       " 'purchases': 17402,\n",
       " 'spot': 3962,\n",
       " 'murders': 9916,\n",
       " '##ulated': 8898,\n",
       " '[unused917]': 922,\n",
       " 'celine': 24550,\n",
       " '[unused341]': 346,\n",
       " 'none': 3904,\n",
       " 'urging': 14328,\n",
       " 'undergo': 13595,\n",
       " 'lilly': 14765,\n",
       " 'prescribed': 16250,\n",
       " 'vanishing': 24866,\n",
       " '##車': 30480,\n",
       " '##omi': 20936,\n",
       " 'ད': 1428,\n",
       " '##ha': 3270,\n",
       " 'singh': 5960,\n",
       " 'mclean': 17602,\n",
       " 'inform': 12367,\n",
       " '##grass': 19673,\n",
       " 'cochrane': 22329,\n",
       " '##uder': 29190,\n",
       " 'palace': 4186,\n",
       " 'gaa': 19930,\n",
       " 'fashioned': 13405,\n",
       " 'authoritarian': 27246,\n",
       " 'karachi': 15381,\n",
       " 'attend': 5463,\n",
       " 'suv': 15620,\n",
       " 'adrian': 7918,\n",
       " 'violinist': 16609,\n",
       " '##watch': 18866,\n",
       " '##tya': 21426,\n",
       " 'ornamental': 18200,\n",
       " 'radicals': 23618,\n",
       " 'italiana': 28059,\n",
       " 'inherit': 22490,\n",
       " 'equations': 11380,\n",
       " 'forerunner': 23993,\n",
       " 'inclusive': 18678,\n",
       " 'drugs': 5850,\n",
       " 'confines': 25722,\n",
       " 'exercising': 28428,\n",
       " '##cho': 9905,\n",
       " 'adi': 27133,\n",
       " '##sser': 18116,\n",
       " 'commotion': 23960,\n",
       " 'catch': 4608,\n",
       " '##51': 22203,\n",
       " 'consulate': 19972,\n",
       " 'accessory': 25339,\n",
       " 'unlawful': 22300,\n",
       " 'imported': 10964,\n",
       " 'limit': 5787,\n",
       " '1907': 5528,\n",
       " 'rabbis': 25602,\n",
       " 'bowling': 9116,\n",
       " 'ruse': 26307,\n",
       " 'kelsey': 21004,\n",
       " '[unused713]': 718,\n",
       " 'hereditary': 14800,\n",
       " 'entertained': 21474,\n",
       " 'serial': 7642,\n",
       " 'beaver': 13570,\n",
       " 'red': 2417,\n",
       " 'waldo': 28806,\n",
       " 'sipping': 24747,\n",
       " '##め': 30206,\n",
       " 'sheep': 8351,\n",
       " '##powered': 27267,\n",
       " 'jail': 7173,\n",
       " 'radial': 15255,\n",
       " '##ola': 6030,\n",
       " '187': 19446,\n",
       " 'dart': 14957,\n",
       " 'stream': 5460,\n",
       " 'meeting': 3116,\n",
       " '##水': 30419,\n",
       " 'santa': 4203,\n",
       " 'ideological': 17859,\n",
       " 'bus': 3902,\n",
       " 'named': 2315,\n",
       " 'dear': 6203,\n",
       " 'corresponded': 27601,\n",
       " '##fe': 7959,\n",
       " 'archery': 21383,\n",
       " '##haw': 14238,\n",
       " 'finding': 4531,\n",
       " 'seasoned': 28223,\n",
       " 'beth': 7014,\n",
       " 'aria': 9342,\n",
       " 'arcade': 10877,\n",
       " 'watered': 27129,\n",
       " 'nose': 4451,\n",
       " 'dimensional': 8789,\n",
       " 'payne': 13470,\n",
       " 'ronnie': 11688,\n",
       " 'familiarity': 24666,\n",
       " 'sloane': 17558,\n",
       " 'chords': 18495,\n",
       " 'amherst': 19850,\n",
       " 'mobilized': 27526,\n",
       " 'lock': 5843,\n",
       " '##₊': 30086,\n",
       " 'vent': 18834,\n",
       " '##jos': 19929,\n",
       " '##ailing': 29544,\n",
       " 'district': 2212,\n",
       " 'overlapping': 20567,\n",
       " 'clayton': 11811,\n",
       " 'sail': 9498,\n",
       " 'patti': 22732,\n",
       " 'advising': 23875,\n",
       " '##ssee': 29522,\n",
       " '##ged': 5999,\n",
       " 'modelling': 19518,\n",
       " 'nobel': 10501,\n",
       " 'asteroid': 12175,\n",
       " 'royals': 15426,\n",
       " 'splits': 19584,\n",
       " 'ნ': 1449,\n",
       " '##tosis': 25950,\n",
       " '##cuit': 28168,\n",
       " 'imitation': 20017,\n",
       " 'specials': 19247,\n",
       " 'sliced': 15920,\n",
       " 'insist': 18292,\n",
       " '30': 2382,\n",
       " 'invitation': 8468,\n",
       " '##ures': 14900,\n",
       " '##sr': 21338,\n",
       " 'uta': 28981,\n",
       " 'concordia': 24982,\n",
       " 'storm': 4040,\n",
       " 'requesting': 17942,\n",
       " 'abused': 16999,\n",
       " 'cheered': 25471,\n",
       " 'plaintiffs': 23953,\n",
       " 'solely': 9578,\n",
       " 'oslo': 9977,\n",
       " 'programmers': 28547,\n",
       " 'largest': 2922,\n",
       " 'shredded': 29022,\n",
       " 'costly': 17047,\n",
       " 'jubilee': 13078,\n",
       " 'neighborhood': 5101,\n",
       " 'baths': 19692,\n",
       " 'strolled': 20354,\n",
       " 'schumann': 29448,\n",
       " 'ท': 1412,\n",
       " '##board': 6277,\n",
       " 'extraction': 14676,\n",
       " 'थ': 1324,\n",
       " 'debuted': 6006,\n",
       " 'superiors': 22983,\n",
       " 'juice': 10869,\n",
       " '##pose': 20688,\n",
       " '##agawa': 20812,\n",
       " '##dion': 29573,\n",
       " '[unused893]': 898,\n",
       " '71': 6390,\n",
       " 'appreciate': 9120,\n",
       " '##dridge': 21482,\n",
       " '##ahl': 28083,\n",
       " '1825': 11384,\n",
       " '##rick': 11285,\n",
       " 'mandy': 18193,\n",
       " 'viz': 26619,\n",
       " '##ffled': 28579,\n",
       " 'couple': 3232,\n",
       " 'diane': 12082,\n",
       " 'picket': 28972,\n",
       " 'witnessed': 9741,\n",
       " 'sunday': 4465,\n",
       " 'sung': 7042,\n",
       " 'toward': 2646,\n",
       " '[unused886]': 891,\n",
       " '[unused330]': 335,\n",
       " 'schumacher': 22253,\n",
       " 'kuwait': 13085,\n",
       " 'interception': 17385,\n",
       " '##ractive': 26884,\n",
       " 'orphan': 18211,\n",
       " 'appalled': 29279,\n",
       " 'spans': 14798,\n",
       " 'possessing': 18840,\n",
       " '##-': 29624,\n",
       " 'jazz': 4166,\n",
       " 'hitchcock': 19625,\n",
       " 'authorized': 9362,\n",
       " 'sigismund': 26748,\n",
       " '##rie': 7373,\n",
       " '[unused42]': 43,\n",
       " 'feels': 5683,\n",
       " 'drugged': 25483,\n",
       " 'celtics': 23279,\n",
       " '##pol': 18155,\n",
       " 'darmstadt': 28381,\n",
       " 'quivering': 26012,\n",
       " '⁷': 1541,\n",
       " 'husky': 18758,\n",
       " 'safeguard': 28805,\n",
       " 'fremont': 22550,\n",
       " 'slow': 4030,\n",
       " 'jeremy': 7441,\n",
       " '[unused29]': 30,\n",
       " 'hungary': 5872,\n",
       " 'lowers': 24950,\n",
       " '##oped': 24174,\n",
       " 'brewer': 18710,\n",
       " '##ime': 14428,\n",
       " 'facilitated': 19601,\n",
       " 'bono': 23648,\n",
       " 'ma': 5003,\n",
       " 'pounded': 13750,\n",
       " 'pulsed': 24107,\n",
       " 'ogden': 23203,\n",
       " 'leto': 24543,\n",
       " 'czechoslovak': 21282,\n",
       " 'disclose': 26056,\n",
       " 'inuit': 25179,\n",
       " 'ᄃ': 1457,\n",
       " 'hut': 12570,\n",
       " '##mounted': 27632,\n",
       " '##kumar': 18494,\n",
       " 'labrador': 18604,\n",
       " 'md': 9108,\n",
       " 'featuring': 3794,\n",
       " 'sbs': 21342,\n",
       " 'lao': 18805,\n",
       " '##ivism': 22486,\n",
       " '##dder': 20791,\n",
       " 'bishop': 3387,\n",
       " 'opener': 16181,\n",
       " 'tt': 23746,\n",
       " 'patented': 16719,\n",
       " 'caucasus': 16512,\n",
       " 'freaked': 22783,\n",
       " '[unused396]': 401,\n",
       " 'oblivion': 24034,\n",
       " 'gma': 20917,\n",
       " '[unused53]': 54,\n",
       " 'mural': 15533,\n",
       " 'siberian': 21822,\n",
       " '21st': 7398,\n",
       " 'durga': 28746,\n",
       " 'broadcaster': 11995,\n",
       " 'sardinia': 21594,\n",
       " 'fixing': 15887,\n",
       " 'elk': 18995,\n",
       " '[unused117]': 122,\n",
       " 'bce': 10705,\n",
       " 'outskirts': 12730,\n",
       " 'semifinal': 16797,\n",
       " 'breached': 25769,\n",
       " 'improved': 5301,\n",
       " 'tail': 5725,\n",
       " 'idf': 24011,\n",
       " 'ん': 1691,\n",
       " 'relation': 7189,\n",
       " '##notes': 20564,\n",
       " 'particular': 3327,\n",
       " 'stables': 16232,\n",
       " 'genie': 22519,\n",
       " '東': 1879,\n",
       " 'salt': 5474,\n",
       " '1790': 13393,\n",
       " 'buddy': 8937,\n",
       " '[unused650]': 655,\n",
       " '##used': 13901,\n",
       " '##oj': 29147,\n",
       " 'functions': 4972,\n",
       " 'compensated': 29258,\n",
       " 'said': 2056,\n",
       " 'supermarket': 17006,\n",
       " 'hinduism': 19632,\n",
       " '##onte': 28040,\n",
       " '##tera': 14621,\n",
       " 'appropriations': 22713,\n",
       " 'scrubbed': 27820,\n",
       " 'australia': 2660,\n",
       " '##viere': 27087,\n",
       " 'households': 3911,\n",
       " 'drenched': 25265,\n",
       " 'wary': 15705,\n",
       " 'punished': 14248,\n",
       " 'ari': 10488,\n",
       " '##rber': 20473,\n",
       " 'incredible': 9788,\n",
       " 'exciting': 10990,\n",
       " 'critical': 4187,\n",
       " 'suez': 21974,\n",
       " '##adi': 17190,\n",
       " 'kabul': 21073,\n",
       " 'strongest': 10473,\n",
       " 'kensington': 17775,\n",
       " '[unused441]': 446,\n",
       " 'rees': 22131,\n",
       " 'consumer': 7325,\n",
       " 'waltz': 17569,\n",
       " 'sweaty': 19889,\n",
       " 'screw': 11224,\n",
       " 'snuggled': 26867,\n",
       " 'sierra': 7838,\n",
       " 'spartak': 28560,\n",
       " 'acknowledging': 21894,\n",
       " 'ringo': 25589,\n",
       " 'thick': 4317,\n",
       " '##gol': 24141,\n",
       " 'qualify': 7515,\n",
       " '##yama': 11613,\n",
       " 'foley': 17106,\n",
       " 'somali': 16831,\n",
       " '##wood': 3702,\n",
       " 'hispanic': 6696,\n",
       " 'flush': 13862,\n",
       " '##κ': 29726,\n",
       " 'hurley': 25124,\n",
       " '##ョ': 30256,\n",
       " 'kv': 24888,\n",
       " 'golfer': 20601,\n",
       " 'juliet': 13707,\n",
       " '##ᄒ': 30005,\n",
       " '##cle': 14321,\n",
       " '1621': 27037,\n",
       " 'abrupt': 18772,\n",
       " '信': 1767,\n",
       " 'threatened': 5561,\n",
       " 'alcoholic': 14813,\n",
       " 'hallways': 28274,\n",
       " '##ivating': 17441,\n",
       " 'abc': 5925,\n",
       " 'charming': 11951,\n",
       " 'able': 2583,\n",
       " 'allies': 6956,\n",
       " 'asset': 11412,\n",
       " 'icons': 18407,\n",
       " '##girl': 15239,\n",
       " 'tags': 22073,\n",
       " 'conjecture': 22647,\n",
       " 'redding': 26687,\n",
       " '##fles': 28331,\n",
       " 'chevalier': 22019,\n",
       " '[unused697]': 702,\n",
       " 'lunar': 11926,\n",
       " 'ravi': 16806,\n",
       " 'pick': 4060,\n",
       " '##ishly': 19983,\n",
       " 'surrender': 7806,\n",
       " '327': 28469,\n",
       " 'goals': 3289,\n",
       " 'artifacts': 10471,\n",
       " 'accommodations': 26167,\n",
       " '##定': 30348,\n",
       " 'open': 2330,\n",
       " 'cheek': 5048,\n",
       " 'burns': 7641,\n",
       " 'length': 3091,\n",
       " 'desire': 4792,\n",
       " '##oot': 17206,\n",
       " 'samuel': 5212,\n",
       " 'walters': 19097,\n",
       " 'transmit': 19818,\n",
       " 'correctional': 20873,\n",
       " 'taps': 25316,\n",
       " 'continental': 6803,\n",
       " 'reorganized': 14137,\n",
       " 'sirius': 23466,\n",
       " 'csi': 22174,\n",
       " 'allowance': 21447,\n",
       " 'stuttgart': 13022,\n",
       " 'junction': 5098,\n",
       " 'heels': 8265,\n",
       " 'turtles': 16489,\n",
       " 'closely': 4876,\n",
       " '##47': 22610,\n",
       " 'shelves': 15475,\n",
       " 'offshore': 12195,\n",
       " 'ю': 1209,\n",
       " 'faults': 19399,\n",
       " 'clinton': 7207,\n",
       " 'completely': 3294,\n",
       " '##社': 30450,\n",
       " 'ignored': 6439,\n",
       " 'constituency': 5540,\n",
       " 'estimation': 24155,\n",
       " 'apical': 29197,\n",
       " '##ₒ': 30091,\n",
       " 'denny': 14465,\n",
       " '[unused197]': 202,\n",
       " 'kamen': 22099,\n",
       " '##erie': 17378,\n",
       " 'bungalow': 27563,\n",
       " 'inherent': 16112,\n",
       " 'galaxies': 21706,\n",
       " 'golden': 3585,\n",
       " 'robert': 2728,\n",
       " 'disappear': 10436,\n",
       " 'rick': 6174,\n",
       " 'tourist': 7538,\n",
       " 'plural': 13994,\n",
       " 'waterfront': 16317,\n",
       " 'malaga': 27382,\n",
       " 'districts': 4733,\n",
       " '##leen': 24129,\n",
       " 'reza': 26323,\n",
       " 'rebound': 27755,\n",
       " 'resin': 24604,\n",
       " 'reverse': 7901,\n",
       " '[unused203]': 208,\n",
       " 'playful': 18378,\n",
       " 'january': 2254,\n",
       " '##oration': 21223,\n",
       " 'renowned': 8228,\n",
       " 'coating': 18898,\n",
       " 'choir': 6596,\n",
       " '##point': 8400,\n",
       " '1826': 11931,\n",
       " 'museum': 2688,\n",
       " 'soundtracks': 24245,\n",
       " 'consecration': 24730,\n",
       " 'slovakia': 10991,\n",
       " 'renault': 14605,\n",
       " '##at': 4017,\n",
       " 'drives': 9297,\n",
       " 'bucharest': 14261,\n",
       " 'manufacture': 9922,\n",
       " 'pupil': 11136,\n",
       " '沢': 1898,\n",
       " 'drying': 17462,\n",
       " 'charms': 24044,\n",
       " 'weights': 15871,\n",
       " '##58': 27814,\n",
       " 'humiliated': 26608,\n",
       " 'piers': 16067,\n",
       " '##?': 29632,\n",
       " 'supermarkets': 26676,\n",
       " 'government': 2231,\n",
       " 'died': 2351,\n",
       " 'iso': 11163,\n",
       " 'tomas': 12675,\n",
       " 'productions': 5453,\n",
       " 'photographs': 7008,\n",
       " '##鈴': 30491,\n",
       " 'negro': 12593,\n",
       " 'accounts': 6115,\n",
       " '«': 1077,\n",
       " 'confusion': 6724,\n",
       " 'terry': 6609,\n",
       " '¹⁄₂': 18728,\n",
       " '##med': 7583,\n",
       " '##lining': 16992,\n",
       " 'lost': 2439,\n",
       " 'dissertation': 14481,\n",
       " '##lani': 21141,\n",
       " 'judas': 25326,\n",
       " 'humor': 8562,\n",
       " 'specifications': 15480,\n",
       " 'drought': 14734,\n",
       " 'ᴺ': 1494,\n",
       " 'retreating': 17512,\n",
       " 'warning': 5432,\n",
       " 'disco': 12532,\n",
       " 'teaming': 27025,\n",
       " 'gerais': 29220,\n",
       " 'hunan': 27374,\n",
       " 'alex': 4074,\n",
       " 'breuning': 18177,\n",
       " '分': 1775,\n",
       " 'authoritative': 23949,\n",
       " '##worm': 22769,\n",
       " 'lawson': 14577,\n",
       " 'societal': 23382,\n",
       " '##ped': 5669,\n",
       " 'starr': 14330,\n",
       " 'nominee': 9773,\n",
       " 'tucson': 17478,\n",
       " 'actors': 5889,\n",
       " '##也': 30276,\n",
       " 'shifted': 5429,\n",
       " '[unused450]': 455,\n",
       " '##nikov': 22576,\n",
       " '24th': 13386,\n",
       " 'muffled': 15783,\n",
       " 'addressing': 12786,\n",
       " '##market': 20285,\n",
       " 'noodles': 27130,\n",
       " 'dumont': 25830,\n",
       " 'contracts': 8311,\n",
       " 'gravely': 28070,\n",
       " 'drawn': 4567,\n",
       " 'sane': 22856,\n",
       " 'opening': 3098,\n",
       " 'singles': 3895,\n",
       " '##ell': 5349,\n",
       " '[unused833]': 838,\n",
       " 'shuffle': 23046,\n",
       " 'realms': 18814,\n",
       " 'candidacy': 17057,\n",
       " '##aran': 20486,\n",
       " 'begins': 4269,\n",
       " 'vijay': 17027,\n",
       " 'belongings': 20033,\n",
       " '##ᅲ': 30016,\n",
       " 'primera': 14837,\n",
       " 'relationship': 3276,\n",
       " '1835': 10150,\n",
       " 'rockies': 22366,\n",
       " '##inus': 13429,\n",
       " 'particle': 10811,\n",
       " 'creek': 3636,\n",
       " '史': 1790,\n",
       " '##ver': 6299,\n",
       " 'foil': 17910,\n",
       " 'biceps': 27947,\n",
       " 'chiang': 17684,\n",
       " 'symphonic': 18957,\n",
       " 'awkward': 9596,\n",
       " '##ך': 29797,\n",
       " 'pharmaceutical': 13859,\n",
       " 'promenade': 26815,\n",
       " 'innate': 25605,\n",
       " 'spectacle': 21177,\n",
       " 'railways': 7111,\n",
       " 'conceived': 10141,\n",
       " '3rd': 3822,\n",
       " 'barbie': 22635,\n",
       " '##break': 23890,\n",
       " '##irus': 26013,\n",
       " 'magic': 3894,\n",
       " '月': 1872,\n",
       " 'fi': 10882,\n",
       " '##hya': 17915,\n",
       " 'exceeded': 14872,\n",
       " '1620': 24259,\n",
       " 'coe': 24873,\n",
       " '##yad': 25152,\n",
       " 'juniors': 16651,\n",
       " '##gong': 17036,\n",
       " 'lai': 21110,\n",
       " 'unnatural': 21242,\n",
       " 'icy': 13580,\n",
       " 'levant': 24485,\n",
       " '##ality': 23732,\n",
       " '##jured': 26949,\n",
       " 'genetic': 7403,\n",
       " 'learners': 26262,\n",
       " 'teenagers': 12908,\n",
       " 'throat': 3759,\n",
       " 'servants': 8858,\n",
       " '[unused315]': 320,\n",
       " 'battle': 2645,\n",
       " '[unused401]': 406,\n",
       " 'gall': 26033,\n",
       " 'pic': 27263,\n",
       " '##jak': 18317,\n",
       " 'doping': 23799,\n",
       " 'nathaniel': 13961,\n",
       " 'formal': 5337,\n",
       " 'est': 9765,\n",
       " 'fins': 18564,\n",
       " 'damon': 11317,\n",
       " 'overcoming': 27363,\n",
       " '[unused783]': 788,\n",
       " '##hdi': 22960,\n",
       " 'youth': 3360,\n",
       " 'altering': 22552,\n",
       " 'sunken': 23470,\n",
       " 'accelerate': 23306,\n",
       " 'revision': 13921,\n",
       " 'kai': 11928,\n",
       " '法': 1901,\n",
       " 'vibrating': 24987,\n",
       " '[unused877]': 882,\n",
       " '##ker': 5484,\n",
       " '##shed': 14740,\n",
       " '##apa': 22068,\n",
       " '1635': 27426,\n",
       " 'had': 2018,\n",
       " '[unused721]': 726,\n",
       " '1748': 24445,\n",
       " 'adamant': 29502,\n",
       " 'harrison': 6676,\n",
       " 'novelty': 21160,\n",
       " 'substituted': 17316,\n",
       " 'ammunition': 9290,\n",
       " 'aging': 12520,\n",
       " 'lithuanian': 10333,\n",
       " 'annie': 8194,\n",
       " '360': 9475,\n",
       " '美': 1935,\n",
       " 'gideon': 12137,\n",
       " 'historic': 3181,\n",
       " 'faulkner': 25109,\n",
       " 'planners': 27155,\n",
       " 'wrecked': 18480,\n",
       " 'martian': 20795,\n",
       " 'weaken': 23021,\n",
       " 'bien': 29316,\n",
       " 'sikhs': 26697,\n",
       " '##lb': 20850,\n",
       " 'strong': 2844,\n",
       " 'reagan': 11531,\n",
       " '[unused524]': 529,\n",
       " 'movement': 2929,\n",
       " '##阿': 30497,\n",
       " '226': 21035,\n",
       " 'leaves': 3727,\n",
       " 'aramaic': 28934,\n",
       " 'bosnian': 16163,\n",
       " '[unused597]': 602,\n",
       " 'followers': 8771,\n",
       " '##code': 16044,\n",
       " 'atlas': 11568,\n",
       " 'sonic': 12728,\n",
       " 'malawi': 18137,\n",
       " 'chargers': 18649,\n",
       " 'termination': 18287,\n",
       " 'tweed': 26922,\n",
       " 'religion': 4676,\n",
       " '##ido': 13820,\n",
       " 'landscaping': 28404,\n",
       " '##王': 30435,\n",
       " '1700': 16601,\n",
       " 'tribal': 8807,\n",
       " 'jurassic': 19996,\n",
       " 'pronunciation': 15498,\n",
       " 'cameron': 7232,\n",
       " 'transitional': 17459,\n",
       " 'unusual': 5866,\n",
       " 'ping': 17852,\n",
       " 'nut': 17490,\n",
       " '##care': 16302,\n",
       " '##ested': 17944,\n",
       " 'countryside': 10833,\n",
       " '##ination': 12758,\n",
       " 'belgarath': 21256,\n",
       " 'template': 23561,\n",
       " '##夏': 30334,\n",
       " '##ng': 3070,\n",
       " 'य': 1332,\n",
       " 'living': 2542,\n",
       " 'trumpet': 9368,\n",
       " '[unused106]': 111,\n",
       " 'sore': 14699,\n",
       " '##ghi': 28891,\n",
       " 'drilling': 15827,\n",
       " 'roller': 11220,\n",
       " 'causing': 4786,\n",
       " 'verve': 29230,\n",
       " '##ried': 11998,\n",
       " '[unused251]': 256,\n",
       " 'targeting': 14126,\n",
       " 'atmospheric': 12483,\n",
       " 'stat': 28093,\n",
       " 'vines': 16702,\n",
       " '##rum': 6824,\n",
       " 'archangel': 28185,\n",
       " '2': 1016,\n",
       " 'romanized': 7651,\n",
       " '##hp': 22269,\n",
       " 'noted': 3264,\n",
       " 'muscle': 6740,\n",
       " '##lster': 29576,\n",
       " '‑': 1514,\n",
       " 'random': 6721,\n",
       " '[unused923]': 928,\n",
       " '##shu': 14235,\n",
       " '##ச': 29919,\n",
       " 'bonding': 19882,\n",
       " 'pedestrian': 14662,\n",
       " 'eleanor': 10508,\n",
       " 'boards': 7923,\n",
       " '##cine': 16567,\n",
       " 'expecting': 8074,\n",
       " '##idi': 28173,\n",
       " 'votes': 4494,\n",
       " 'undead': 17315,\n",
       " 'fabrics': 25123,\n",
       " 'quarries': 27069,\n",
       " '##post': 19894,\n",
       " 'gorge': 14980,\n",
       " 'consideration': 9584,\n",
       " 'treatments': 13441,\n",
       " 'percentage': 7017,\n",
       " 'wrestler': 10706,\n",
       " 'ignited': 22395,\n",
       " 'holiday': 6209,\n",
       " 'herbert': 7253,\n",
       " '##辶': 30482,\n",
       " 'subjective': 20714,\n",
       " 'forget': 5293,\n",
       " '98': 5818,\n",
       " '##立': 30457,\n",
       " 'ignacio': 22988,\n",
       " 'felipe': 17095,\n",
       " 'neal': 11030,\n",
       " 'choices': 9804,\n",
       " 'ま': 1677,\n",
       " '##print': 16550,\n",
       " 'pup': 26781,\n",
       " '1632': 28216,\n",
       " '##ʁ': 29694,\n",
       " 'aces': 20232,\n",
       " '##rky': 15952,\n",
       " 'wind': 3612,\n",
       " 'suck': 11891,\n",
       " 'piper': 11939,\n",
       " '##moor': 17622,\n",
       " 'bethel': 19375,\n",
       " 'jug': 26536,\n",
       " '##x': 2595,\n",
       " 'acknowledges': 28049,\n",
       " 'blockade': 15823,\n",
       " 'demonstrators': 28337,\n",
       " 'swung': 7671,\n",
       " 'bribe': 26470,\n",
       " 'inflated': 29561,\n",
       " 'iris': 11173,\n",
       " 'harvesting': 21534,\n",
       " 'consul': 11801,\n",
       " '##dran': 24914,\n",
       " 'healer': 19783,\n",
       " 'frenchman': 26529,\n",
       " 'sweetly': 22557,\n",
       " '1699': 28718,\n",
       " 'season': 2161,\n",
       " '##ing': 2075,\n",
       " 'pest': 20739,\n",
       " 'dead': 2757,\n",
       " 'nigerian': 11884,\n",
       " 'thessaloniki': 23162,\n",
       " 'rq': 28134,\n",
       " 'caldwell': 16589,\n",
       " 'criterion': 19229,\n",
       " 'poole': 19107,\n",
       " '##osity': 25949,\n",
       " 'nokia': 22098,\n",
       " 'danes': 27476,\n",
       " '##ன': 29923,\n",
       " 'writers': 4898,\n",
       " 'vietnamese': 9101,\n",
       " 'winthrop': 28974,\n",
       " '##rson': 17753,\n",
       " 'formulation': 20219,\n",
       " 'mail': 5653,\n",
       " '##cock': 13959,\n",
       " 'greenberg': 24190,\n",
       " '不': 1744,\n",
       " 'laptop': 12191,\n",
       " 'kidney': 14234,\n",
       " 'hardin': 27522,\n",
       " 'horizontal': 9876,\n",
       " '##down': 7698,\n",
       " '##rsk': 27472,\n",
       " 'nirvana': 26530,\n",
       " '##lase': 25002,\n",
       " 'courtesy': 14571,\n",
       " 'ministerial': 18645,\n",
       " '##rke': 25074,\n",
       " 'pigment': 28815,\n",
       " 'dame': 8214,\n",
       " 'reunion': 10301,\n",
       " 'exotic': 12564,\n",
       " 'reinforcements': 14214,\n",
       " '##uno': 27819,\n",
       " '##ashi': 12914,\n",
       " 'wolverhampton': 20085,\n",
       " 'seventies': 26232,\n",
       " 'crowley': 20748,\n",
       " 'obtained': 4663,\n",
       " 'artistic': 6018,\n",
       " '[unused741]': 746,\n",
       " 'hugely': 27564,\n",
       " 'concepts': 8474,\n",
       " 'nobility': 11760,\n",
       " 'infamous': 14429,\n",
       " 'play': 2377,\n",
       " 'troopers': 26246,\n",
       " 'descriptions': 13271,\n",
       " 'amateur': 5515,\n",
       " 'tricked': 24929,\n",
       " '##uded': 13936,\n",
       " 'ign': 16270,\n",
       " 'parenting': 28586,\n",
       " 'drift': 11852,\n",
       " 'buddhism': 11388,\n",
       " 'asshole': 22052,\n",
       " 'tibet': 13319,\n",
       " 'destination': 7688,\n",
       " 'predators': 12630,\n",
       " '227': 21489,\n",
       " 'tinted': 25577,\n",
       " '##eurs': 26744,\n",
       " 'dolores': 21544,\n",
       " 'demonstrates': 16691,\n",
       " '##tub': 28251,\n",
       " 'send': 4604,\n",
       " 'lunatic': 26594,\n",
       " 'localities': 19664,\n",
       " 'rest': 2717,\n",
       " 'barrister': 19805,\n",
       " 'writing': 3015,\n",
       " 'pricing': 20874,\n",
       " 'independence': 4336,\n",
       " 'glee': 18874,\n",
       " '1946': 3918,\n",
       " 'gallant': 26984,\n",
       " 'fisher': 8731,\n",
       " 'romania': 6339,\n",
       " 'palestinian': 9302,\n",
       " '≈': 1606,\n",
       " 'correlation': 16902,\n",
       " 'brooks': 8379,\n",
       " 'bubble': 11957,\n",
       " 'mentoring': 29192,\n",
       " 'medicare': 27615,\n",
       " '##cted': 10985,\n",
       " '[unused920]': 925,\n",
       " '##sell': 23836,\n",
       " '##bilis': 27965,\n",
       " 'sloppy': 28810,\n",
       " 'normally': 5373,\n",
       " 'khyber': 28416,\n",
       " 'darkest': 23036,\n",
       " '##fixed': 23901,\n",
       " 'hillary': 18520,\n",
       " 'sargent': 27599,\n",
       " 'options': 7047,\n",
       " '##gas': 12617,\n",
       " '##bow': 18912,\n",
       " '##gp': 21600,\n",
       " 'eighth': 5964,\n",
       " '[unused457]': 462,\n",
       " 'rowing': 12037,\n",
       " 'launches': 18989,\n",
       " 'norway': 5120,\n",
       " '232': 20666,\n",
       " 'footprint': 24319,\n",
       " 'futures': 17795,\n",
       " 'ว': 1419,\n",
       " 'footed': 28856,\n",
       " 'lei': 26947,\n",
       " 'peered': 10757,\n",
       " 'alloy': 17564,\n",
       " 'massimo': 28080,\n",
       " 'benefit': 5770,\n",
       " 'hollywood': 5365,\n",
       " '##ᵍ': 30036,\n",
       " 'issuing': 15089,\n",
       " 'gps': 14658,\n",
       " '##crow': 24375,\n",
       " 'grow': 4982,\n",
       " 'underside': 17313,\n",
       " '##verted': 26686,\n",
       " 'watch': 3422,\n",
       " 'motel': 14901,\n",
       " 've': 2310,\n",
       " 'supernatural': 11189,\n",
       " 'saves': 13169,\n",
       " 'authenticity': 21452,\n",
       " 'contestant': 10832,\n",
       " '16': 2385,\n",
       " '1933': 4537,\n",
       " 'ballet': 7250,\n",
       " 'stormy': 24166,\n",
       " '##azi': 16103,\n",
       " '##raus': 25965,\n",
       " 'molecules': 10737,\n",
       " 'malls': 25943,\n",
       " 'diverted': 18356,\n",
       " 'confusing': 16801,\n",
       " '##tell': 23567,\n",
       " 'জ': 1358,\n",
       " 'painful': 9145,\n",
       " 'favorably': 27597,\n",
       " 'nme': 23770,\n",
       " '##sm': 6491,\n",
       " '##16': 16048,\n",
       " 'researched': 18800,\n",
       " '##sden': 27903,\n",
       " 'resurrected': 23053,\n",
       " 'pools': 12679,\n",
       " 'gleam': 24693,\n",
       " '##：': 30519,\n",
       " 'balcony': 11673,\n",
       " 'boeing': 10321,\n",
       " 'wingspan': 9635,\n",
       " 'introducing': 10449,\n",
       " 'thanked': 15583,\n",
       " 'vanilla': 21161,\n",
       " 'slams': 25967,\n",
       " '##vas': 12044,\n",
       " 'johnson': 3779,\n",
       " 'rossi': 18451,\n",
       " '##ulin': 18639,\n",
       " '##wn': 7962,\n",
       " 'american': 2137,\n",
       " 'kin': 12631,\n",
       " 'info': 18558,\n",
       " 'noble': 7015,\n",
       " 'after': 2044,\n",
       " 'drank': 10749,\n",
       " '[unused214]': 219,\n",
       " '##œ': 29674,\n",
       " 'homeless': 11573,\n",
       " 'instability': 18549,\n",
       " '1737': 26738,\n",
       " '##atz': 20501,\n",
       " '##pired': 21649,\n",
       " '##♠': 30150,\n",
       " 'sperm': 18047,\n",
       " '##marine': 21966,\n",
       " 'minimum': 6263,\n",
       " '1857': 8204,\n",
       " '##ding': 4667,\n",
       " 'viscount': 12182,\n",
       " '##av': 11431,\n",
       " 'protections': 28548,\n",
       " '##5': 2629,\n",
       " 'recommended': 6749,\n",
       " '##basket': 25351,\n",
       " 'matters': 5609,\n",
       " 'tad': 18819,\n",
       " 'ferris': 23202,\n",
       " 'mutter': 23457,\n",
       " '[unused213]': 218,\n",
       " '⁴': 1538,\n",
       " 'believes': 7164,\n",
       " 'exhaled': 16242,\n",
       " 'honorary': 5756,\n",
       " 'scooted': 24289,\n",
       " 'reginald': 14435,\n",
       " '[unused3]': 4,\n",
       " 'playwright': 11170,\n",
       " 'tidy': 29369,\n",
       " 'devout': 26092,\n",
       " 'sake': 8739,\n",
       " 'ol': 19330,\n",
       " '[unused758]': 763,\n",
       " 'safely': 9689,\n",
       " 'symbolism': 22050,\n",
       " '##⊕': 30139,\n",
       " 'andy': 5557,\n",
       " '##gs': 5620,\n",
       " '[unused841]': 846,\n",
       " 'mathematical': 8045,\n",
       " 'maria': 3814,\n",
       " '##tituted': 29139,\n",
       " '##cation': 10719,\n",
       " '115': 10630,\n",
       " 'heaving': 23907,\n",
       " 'γ': 1157,\n",
       " 'hardy': 9532,\n",
       " 'raju': 25098,\n",
       " 'chromosomes': 26874,\n",
       " 'former': 2280,\n",
       " '##●': 30146,\n",
       " 'possibly': 4298,\n",
       " 'translations': 11913,\n",
       " 'darted': 14051,\n",
       " 'explode': 15044,\n",
       " 'started': 2318,\n",
       " 'polka': 29499,\n",
       " 'maguire': 26196,\n",
       " '##he': 5369,\n",
       " '##region': 23784,\n",
       " '##ssar': 25556,\n",
       " 'katy': 17870,\n",
       " 'lorraine': 13895,\n",
       " 'diversity': 8906,\n",
       " '##rrigan': 28706,\n",
       " '##將': 30354,\n",
       " '[unused273]': 278,\n",
       " 'y': 1061,\n",
       " 'warfare': 8309,\n",
       " 'janice': 20029,\n",
       " 'mansfield': 15352,\n",
       " 'hermann': 12224,\n",
       " 'neville': 14871,\n",
       " 'spreading': 9359,\n",
       " 'header': 20346,\n",
       " 'shout': 11245,\n",
       " 'awarded': 3018,\n",
       " 'listener': 19373,\n",
       " '##uit': 14663,\n",
       " 'thinkers': 24762,\n",
       " '##iano': 15668,\n",
       " '##rogate': 21799,\n",
       " 'austrians': 28439,\n",
       " 'slender': 10944,\n",
       " '[unused460]': 465,\n",
       " 'subtropical': 11935,\n",
       " 'mommy': 20565,\n",
       " '[unused257]': 262,\n",
       " 'marjorie': 21562,\n",
       " '##rino': 17815,\n",
       " ...}"
      ]
     },
     "execution_count": 17,
     "metadata": {},
     "output_type": "execute_result"
    }
   ],
   "source": [
    "tokenizer.get_vocab()"
   ]
  },
  {
   "cell_type": "code",
   "execution_count": 18,
   "metadata": {},
   "outputs": [
    {
     "data": {
      "text/plain": [
       "['input_ids', 'attention_mask']"
      ]
     },
     "execution_count": 18,
     "metadata": {},
     "output_type": "execute_result"
    }
   ],
   "source": [
    "tokenizer.model_input_names"
   ]
  },
  {
   "cell_type": "code",
   "execution_count": 19,
   "metadata": {},
   "outputs": [
    {
     "data": {
      "text/plain": [
       "30522"
      ]
     },
     "execution_count": 19,
     "metadata": {},
     "output_type": "execute_result"
    }
   ],
   "source": [
    "tokenizer.vocab_size"
   ]
  },
  {
   "cell_type": "code",
   "execution_count": 20,
   "metadata": {},
   "outputs": [],
   "source": [
    "def tokenize_function(batch):\n",
    "    return tokenizer(batch['verse_text'],padding=True,truncation=True)"
   ]
  },
  {
   "cell_type": "code",
   "execution_count": 21,
   "metadata": {},
   "outputs": [
    {
     "name": "stdout",
     "output_type": "stream",
     "text": [
      "{'input_ids': [[101, 2007, 5122, 2630, 22681, 1012, 1999, 2122, 9379, 13178, 1011, 1011, 102], [101, 2009, 6223, 2061, 2146, 2004, 4212, 1996, 4542, 1010, 102, 0, 0]], 'attention_mask': [[1, 1, 1, 1, 1, 1, 1, 1, 1, 1, 1, 1, 1], [1, 1, 1, 1, 1, 1, 1, 1, 1, 1, 1, 0, 0]]}\n"
     ]
    }
   ],
   "source": [
    "print(tokenize_function(ds_original_from_hf['train'][:2]))"
   ]
  },
  {
   "cell_type": "code",
   "execution_count": 22,
   "metadata": {},
   "outputs": [
    {
     "name": "stderr",
     "output_type": "stream",
     "text": [
      "Loading cached processed dataset at /home/raj/.cache/huggingface/datasets/poem_sentiment/default/1.0.0/4e44428256d42cdde0be6b3db1baa587195e91847adabf976e4f9454f6a82099/cache-4ac3eb3a21254e67.arrow\n",
      "Loading cached processed dataset at /home/raj/.cache/huggingface/datasets/poem_sentiment/default/1.0.0/4e44428256d42cdde0be6b3db1baa587195e91847adabf976e4f9454f6a82099/cache-6932fa8be1dbbf60.arrow\n",
      "Loading cached processed dataset at /home/raj/.cache/huggingface/datasets/poem_sentiment/default/1.0.0/4e44428256d42cdde0be6b3db1baa587195e91847adabf976e4f9454f6a82099/cache-dcd8a476658e956d.arrow\n"
     ]
    }
   ],
   "source": [
    "ds_pretrained_fearures_encoded = ds_original_from_hf.map(tokenize_function,batched=True,batch_size=None)"
   ]
  },
  {
   "cell_type": "code",
   "execution_count": 23,
   "metadata": {},
   "outputs": [
    {
     "data": {
      "text/plain": [
       "['id', 'verse_text', 'label', 'input_ids', 'attention_mask']"
      ]
     },
     "execution_count": 23,
     "metadata": {},
     "output_type": "execute_result"
    }
   ],
   "source": [
    "ds_pretrained_fearures_encoded['train'].column_names"
   ]
  },
  {
   "attachments": {},
   "cell_type": "markdown",
   "metadata": {},
   "source": [
    "Using Pretrained Model - DistilBERT"
   ]
  },
  {
   "cell_type": "code",
   "execution_count": 24,
   "metadata": {},
   "outputs": [
    {
     "name": "stderr",
     "output_type": "stream",
     "text": [
      "Some weights of the model checkpoint at distilbert-base-uncased were not used when initializing DistilBertModel: ['vocab_projector.bias', 'vocab_layer_norm.bias', 'vocab_layer_norm.weight', 'vocab_transform.weight', 'vocab_transform.bias']\n",
      "- This IS expected if you are initializing DistilBertModel from the checkpoint of a model trained on another task or with another architecture (e.g. initializing a BertForSequenceClassification model from a BertForPreTraining model).\n",
      "- This IS NOT expected if you are initializing DistilBertModel from the checkpoint of a model that you expect to be exactly identical (initializing a BertForSequenceClassification model from a BertForSequenceClassification model).\n"
     ]
    }
   ],
   "source": [
    "from transformers import AutoModel\n",
    "\n",
    "device = torch.device('cuda:0' if torch.cuda.is_available() else 'cpu')\n",
    "\n",
    "model = AutoModel.from_pretrained(model_ckpt).to(device)"
   ]
  },
  {
   "cell_type": "code",
   "execution_count": 25,
   "metadata": {},
   "outputs": [],
   "source": [
    "def get_hidden_state(batch):\n",
    "    inputs = {k: v.to(device) for k,v in batch.items()\n",
    "              if k in tokenizer.model_input_names }\n",
    "    with torch.no_grad():\n",
    "        last_hidden_state = model(**inputs).last_hidden_state\n",
    "    return {'hidden_state': last_hidden_state[:,0].cpu().numpy() }\n",
    "\n",
    "ds_pretrained_fearures_encoded.set_format('torch',columns = [ 'label', 'input_ids', 'attention_mask'])"
   ]
  },
  {
   "cell_type": "code",
   "execution_count": 26,
   "metadata": {},
   "outputs": [
    {
     "data": {
      "text/plain": [
       "{'id': Value(dtype='int32', id=None),\n",
       " 'verse_text': Value(dtype='string', id=None),\n",
       " 'label': ClassLabel(names=['negative', 'positive', 'no_impact', 'mixed'], id=None),\n",
       " 'input_ids': Sequence(feature=Value(dtype='int32', id=None), length=-1, id=None),\n",
       " 'attention_mask': Sequence(feature=Value(dtype='int8', id=None), length=-1, id=None)}"
      ]
     },
     "execution_count": 26,
     "metadata": {},
     "output_type": "execute_result"
    }
   ],
   "source": [
    "ds_pretrained_fearures_encoded['train'].features"
   ]
  },
  {
   "cell_type": "code",
   "execution_count": 27,
   "metadata": {},
   "outputs": [
    {
     "name": "stderr",
     "output_type": "stream",
     "text": [
      "Loading cached processed dataset at /home/raj/.cache/huggingface/datasets/poem_sentiment/default/1.0.0/4e44428256d42cdde0be6b3db1baa587195e91847adabf976e4f9454f6a82099/cache-fb90ce617768146a.arrow\n",
      "Loading cached processed dataset at /home/raj/.cache/huggingface/datasets/poem_sentiment/default/1.0.0/4e44428256d42cdde0be6b3db1baa587195e91847adabf976e4f9454f6a82099/cache-00dafe518ee71e68.arrow\n",
      "Loading cached processed dataset at /home/raj/.cache/huggingface/datasets/poem_sentiment/default/1.0.0/4e44428256d42cdde0be6b3db1baa587195e91847adabf976e4f9454f6a82099/cache-c1f6e7e572c81340.arrow\n"
     ]
    }
   ],
   "source": [
    "pretrained_hidden_states = ds_pretrained_fearures_encoded.map(get_hidden_state,batched=True)"
   ]
  },
  {
   "cell_type": "code",
   "execution_count": 28,
   "metadata": {},
   "outputs": [
    {
     "data": {
      "text/plain": [
       "Dataset({\n",
       "    features: ['id', 'verse_text', 'label', 'input_ids', 'attention_mask', 'hidden_state'],\n",
       "    num_rows: 892\n",
       "})"
      ]
     },
     "execution_count": 28,
     "metadata": {},
     "output_type": "execute_result"
    }
   ],
   "source": [
    "pretrained_hidden_states['train']"
   ]
  },
  {
   "cell_type": "code",
   "execution_count": 29,
   "metadata": {},
   "outputs": [],
   "source": [
    "X_train = np.array(pretrained_hidden_states['train']['hidden_state'])\n",
    "X_valid = np.array(pretrained_hidden_states['validation']['hidden_state'])\n",
    "\n",
    "y_train = np.array(pretrained_hidden_states['train']['label'])\n",
    "y_valid = np.array(pretrained_hidden_states['validation']['label'])"
   ]
  },
  {
   "cell_type": "code",
   "execution_count": 30,
   "metadata": {},
   "outputs": [
    {
     "data": {
      "text/plain": [
       "array([[-0.22319107, -0.13402359, -0.03985157, ..., -0.13194129,\n",
       "         0.28541842,  0.1294578 ],\n",
       "       [-0.22522773, -0.13816187,  0.03874098, ..., -0.00618832,\n",
       "         0.23927002,  0.35466564],\n",
       "       [-0.14576909,  0.02673087, -0.06139479, ...,  0.04230488,\n",
       "         0.40021536,  0.19074394],\n",
       "       ...,\n",
       "       [-0.15839648,  0.06465053, -0.134851  , ..., -0.09434574,\n",
       "         0.15932408,  0.13212441],\n",
       "       [-0.30197528,  0.03574481, -0.2639341 , ..., -0.09008646,\n",
       "         0.4321668 ,  0.3521736 ],\n",
       "       [-0.08587637,  0.04959171,  0.00788689, ..., -0.21295595,\n",
       "         0.37026837,  0.18545856]], dtype=float32)"
      ]
     },
     "execution_count": 30,
     "metadata": {},
     "output_type": "execute_result"
    }
   ],
   "source": [
    "X_train"
   ]
  },
  {
   "cell_type": "code",
   "execution_count": 31,
   "metadata": {},
   "outputs": [
    {
     "data": {
      "text/plain": [
       "(892, 768)"
      ]
     },
     "execution_count": 31,
     "metadata": {},
     "output_type": "execute_result"
    }
   ],
   "source": [
    "X_train.shape  #(batch_size,out_feature)"
   ]
  },
  {
   "cell_type": "code",
   "execution_count": 32,
   "metadata": {},
   "outputs": [],
   "source": [
    "# ! pip install umap-learn"
   ]
  },
  {
   "cell_type": "code",
   "execution_count": 33,
   "metadata": {},
   "outputs": [
    {
     "name": "stderr",
     "output_type": "stream",
     "text": [
      "/home/raj/.conda/envs/raj/lib/python3.11/site-packages/umap/distances.py:1063: NumbaDeprecationWarning: The 'nopython' keyword argument was not supplied to the 'numba.jit' decorator. The implicit default value for this argument is currently False, but it will be changed to True in Numba 0.59.0. See https://numba.readthedocs.io/en/stable/reference/deprecation.html#deprecation-of-object-mode-fall-back-behaviour-when-using-jit for details.\n",
      "  @numba.jit()\n",
      "/home/raj/.conda/envs/raj/lib/python3.11/site-packages/umap/distances.py:1071: NumbaDeprecationWarning: The 'nopython' keyword argument was not supplied to the 'numba.jit' decorator. The implicit default value for this argument is currently False, but it will be changed to True in Numba 0.59.0. See https://numba.readthedocs.io/en/stable/reference/deprecation.html#deprecation-of-object-mode-fall-back-behaviour-when-using-jit for details.\n",
      "  @numba.jit()\n",
      "/home/raj/.conda/envs/raj/lib/python3.11/site-packages/umap/distances.py:1086: NumbaDeprecationWarning: The 'nopython' keyword argument was not supplied to the 'numba.jit' decorator. The implicit default value for this argument is currently False, but it will be changed to True in Numba 0.59.0. See https://numba.readthedocs.io/en/stable/reference/deprecation.html#deprecation-of-object-mode-fall-back-behaviour-when-using-jit for details.\n",
      "  @numba.jit()\n",
      "/home/raj/.conda/envs/raj/lib/python3.11/site-packages/umap/umap_.py:660: NumbaDeprecationWarning: The 'nopython' keyword argument was not supplied to the 'numba.jit' decorator. The implicit default value for this argument is currently False, but it will be changed to True in Numba 0.59.0. See https://numba.readthedocs.io/en/stable/reference/deprecation.html#deprecation-of-object-mode-fall-back-behaviour-when-using-jit for details.\n",
      "  @numba.jit()\n"
     ]
    }
   ],
   "source": [
    "from umap import UMAP\n",
    "from sklearn.preprocessing import MinMaxScaler\n",
    "\n",
    "X_train_scaled = MinMaxScaler().fit_transform(X_train)\n",
    "mapper = UMAP(n_components = 2, metric = 'cosine').fit(X_train_scaled)"
   ]
  },
  {
   "cell_type": "code",
   "execution_count": 34,
   "metadata": {},
   "outputs": [
    {
     "data": {
      "text/html": [
       "<style>#sk-container-id-1 {color: black;background-color: white;}#sk-container-id-1 pre{padding: 0;}#sk-container-id-1 div.sk-toggleable {background-color: white;}#sk-container-id-1 label.sk-toggleable__label {cursor: pointer;display: block;width: 100%;margin-bottom: 0;padding: 0.3em;box-sizing: border-box;text-align: center;}#sk-container-id-1 label.sk-toggleable__label-arrow:before {content: \"▸\";float: left;margin-right: 0.25em;color: #696969;}#sk-container-id-1 label.sk-toggleable__label-arrow:hover:before {color: black;}#sk-container-id-1 div.sk-estimator:hover label.sk-toggleable__label-arrow:before {color: black;}#sk-container-id-1 div.sk-toggleable__content {max-height: 0;max-width: 0;overflow: hidden;text-align: left;background-color: #f0f8ff;}#sk-container-id-1 div.sk-toggleable__content pre {margin: 0.2em;color: black;border-radius: 0.25em;background-color: #f0f8ff;}#sk-container-id-1 input.sk-toggleable__control:checked~div.sk-toggleable__content {max-height: 200px;max-width: 100%;overflow: auto;}#sk-container-id-1 input.sk-toggleable__control:checked~label.sk-toggleable__label-arrow:before {content: \"▾\";}#sk-container-id-1 div.sk-estimator input.sk-toggleable__control:checked~label.sk-toggleable__label {background-color: #d4ebff;}#sk-container-id-1 div.sk-label input.sk-toggleable__control:checked~label.sk-toggleable__label {background-color: #d4ebff;}#sk-container-id-1 input.sk-hidden--visually {border: 0;clip: rect(1px 1px 1px 1px);clip: rect(1px, 1px, 1px, 1px);height: 1px;margin: -1px;overflow: hidden;padding: 0;position: absolute;width: 1px;}#sk-container-id-1 div.sk-estimator {font-family: monospace;background-color: #f0f8ff;border: 1px dotted black;border-radius: 0.25em;box-sizing: border-box;margin-bottom: 0.5em;}#sk-container-id-1 div.sk-estimator:hover {background-color: #d4ebff;}#sk-container-id-1 div.sk-parallel-item::after {content: \"\";width: 100%;border-bottom: 1px solid gray;flex-grow: 1;}#sk-container-id-1 div.sk-label:hover label.sk-toggleable__label {background-color: #d4ebff;}#sk-container-id-1 div.sk-serial::before {content: \"\";position: absolute;border-left: 1px solid gray;box-sizing: border-box;top: 0;bottom: 0;left: 50%;z-index: 0;}#sk-container-id-1 div.sk-serial {display: flex;flex-direction: column;align-items: center;background-color: white;padding-right: 0.2em;padding-left: 0.2em;position: relative;}#sk-container-id-1 div.sk-item {position: relative;z-index: 1;}#sk-container-id-1 div.sk-parallel {display: flex;align-items: stretch;justify-content: center;background-color: white;position: relative;}#sk-container-id-1 div.sk-item::before, #sk-container-id-1 div.sk-parallel-item::before {content: \"\";position: absolute;border-left: 1px solid gray;box-sizing: border-box;top: 0;bottom: 0;left: 50%;z-index: -1;}#sk-container-id-1 div.sk-parallel-item {display: flex;flex-direction: column;z-index: 1;position: relative;background-color: white;}#sk-container-id-1 div.sk-parallel-item:first-child::after {align-self: flex-end;width: 50%;}#sk-container-id-1 div.sk-parallel-item:last-child::after {align-self: flex-start;width: 50%;}#sk-container-id-1 div.sk-parallel-item:only-child::after {width: 0;}#sk-container-id-1 div.sk-dashed-wrapped {border: 1px dashed gray;margin: 0 0.4em 0.5em 0.4em;box-sizing: border-box;padding-bottom: 0.4em;background-color: white;}#sk-container-id-1 div.sk-label label {font-family: monospace;font-weight: bold;display: inline-block;line-height: 1.2em;}#sk-container-id-1 div.sk-label-container {text-align: center;}#sk-container-id-1 div.sk-container {/* jupyter's `normalize.less` sets `[hidden] { display: none; }` but bootstrap.min.css set `[hidden] { display: none !important; }` so we also need the `!important` here to be able to override the default hidden behavior on the sphinx rendered scikit-learn.org. See: https://github.com/scikit-learn/scikit-learn/issues/21755 */display: inline-block !important;position: relative;}#sk-container-id-1 div.sk-text-repr-fallback {display: none;}</style><div id=\"sk-container-id-1\" class=\"sk-top-container\"><div class=\"sk-text-repr-fallback\"><pre>UMAP(angular_rp_forest=True, metric=&#x27;cosine&#x27;, tqdm_kwds={&#x27;bar_format&#x27;: &#x27;{desc}: {percentage:3.0f}%| {bar} {n_fmt}/{total_fmt} [{elapsed}]&#x27;, &#x27;desc&#x27;: &#x27;Epochs completed&#x27;, &#x27;disable&#x27;: True})</pre><b>In a Jupyter environment, please rerun this cell to show the HTML representation or trust the notebook. <br />On GitHub, the HTML representation is unable to render, please try loading this page with nbviewer.org.</b></div><div class=\"sk-container\" hidden><div class=\"sk-item\"><div class=\"sk-estimator sk-toggleable\"><input class=\"sk-toggleable__control sk-hidden--visually\" id=\"sk-estimator-id-1\" type=\"checkbox\" checked><label for=\"sk-estimator-id-1\" class=\"sk-toggleable__label sk-toggleable__label-arrow\">UMAP</label><div class=\"sk-toggleable__content\"><pre>UMAP(angular_rp_forest=True, metric=&#x27;cosine&#x27;, tqdm_kwds={&#x27;bar_format&#x27;: &#x27;{desc}: {percentage:3.0f}%| {bar} {n_fmt}/{total_fmt} [{elapsed}]&#x27;, &#x27;desc&#x27;: &#x27;Epochs completed&#x27;, &#x27;disable&#x27;: True})</pre></div></div></div></div></div>"
      ],
      "text/plain": [
       "UMAP(angular_rp_forest=True, metric='cosine', tqdm_kwds={'bar_format': '{desc}: {percentage:3.0f}%| {bar} {n_fmt}/{total_fmt} [{elapsed}]', 'desc': 'Epochs completed', 'disable': True})"
      ]
     },
     "execution_count": 34,
     "metadata": {},
     "output_type": "execute_result"
    }
   ],
   "source": [
    "mapper"
   ]
  },
  {
   "cell_type": "code",
   "execution_count": 35,
   "metadata": {},
   "outputs": [
    {
     "data": {
      "text/html": [
       "<div>\n",
       "<style scoped>\n",
       "    .dataframe tbody tr th:only-of-type {\n",
       "        vertical-align: middle;\n",
       "    }\n",
       "\n",
       "    .dataframe tbody tr th {\n",
       "        vertical-align: top;\n",
       "    }\n",
       "\n",
       "    .dataframe thead th {\n",
       "        text-align: right;\n",
       "    }\n",
       "</style>\n",
       "<table border=\"1\" class=\"dataframe\">\n",
       "  <thead>\n",
       "    <tr style=\"text-align: right;\">\n",
       "      <th></th>\n",
       "      <th>X</th>\n",
       "      <th>Y</th>\n",
       "      <th>label</th>\n",
       "    </tr>\n",
       "  </thead>\n",
       "  <tbody>\n",
       "    <tr>\n",
       "      <th>0</th>\n",
       "      <td>12.895674</td>\n",
       "      <td>7.019976</td>\n",
       "      <td>1</td>\n",
       "    </tr>\n",
       "    <tr>\n",
       "      <th>1</th>\n",
       "      <td>8.545488</td>\n",
       "      <td>6.146675</td>\n",
       "      <td>2</td>\n",
       "    </tr>\n",
       "    <tr>\n",
       "      <th>2</th>\n",
       "      <td>10.701999</td>\n",
       "      <td>4.199473</td>\n",
       "      <td>0</td>\n",
       "    </tr>\n",
       "    <tr>\n",
       "      <th>3</th>\n",
       "      <td>7.815099</td>\n",
       "      <td>5.986995</td>\n",
       "      <td>3</td>\n",
       "    </tr>\n",
       "    <tr>\n",
       "      <th>4</th>\n",
       "      <td>11.387780</td>\n",
       "      <td>6.370640</td>\n",
       "      <td>3</td>\n",
       "    </tr>\n",
       "  </tbody>\n",
       "</table>\n",
       "</div>"
      ],
      "text/plain": [
       "           X         Y  label\n",
       "0  12.895674  7.019976      1\n",
       "1   8.545488  6.146675      2\n",
       "2  10.701999  4.199473      0\n",
       "3   7.815099  5.986995      3\n",
       "4  11.387780  6.370640      3"
      ]
     },
     "metadata": {},
     "output_type": "display_data"
    }
   ],
   "source": [
    "df_embedded_from_hidden = pd.DataFrame(mapper.embedding_, columns=['X','Y'])\n",
    "\n",
    "df_embedded_from_hidden['label'] = y_train\n",
    "\n",
    "display(df_embedded_from_hidden.head())"
   ]
  },
  {
   "cell_type": "code",
   "execution_count": 36,
   "metadata": {},
   "outputs": [
    {
     "data": {
      "image/png": "[encoded data removed]",
      "text/plain": [
       "<Figure size 500x500 with 4 Axes>"
      ]
     },
     "metadata": {},
     "output_type": "display_data"
    }
   ],
   "source": [
    "fig, axes = plt.subplots(2,2,figsize=(5,5))\n",
    "\n",
    "axes = axes.flatten()\n",
    "\n",
    "cmaps = ['Greys', \"Blues\", \"Oranges\", \"Reds\", \"Purples\", \"Greens\"]\n",
    "\n",
    "#Labels name of ds_original_from_hf\n",
    "labels = ds_original_from_hf[\"train\"].features[\"label\"].names\n",
    "\n",
    "#separate\n",
    "for i,(label, cmap) in enumerate(zip(labels, cmaps)):\n",
    "    df_embedding_subplot = df_embedded_from_hidden.query(f\"label == {i}\")\n",
    "    axes[i].hexbin(df_embedding_subplot[\"X\"], df_embedding_subplot[\"Y\"], cmap=cmap,\n",
    "                  gridsize= 20, linewidths=(0,))\n",
    "    axes[i].set_title(label, color='white')\n",
    "    axes[i].set_xticks([]),axes[i].set_yticks([])\n",
    "    \n",
    "plt.tight_layout()\n",
    "plt.show()"
   ]
  },
  {
   "cell_type": "code",
   "execution_count": 37,
   "metadata": {},
   "outputs": [
    {
     "name": "stdout",
     "output_type": "stream",
     "text": [
      "Logistic Regression Score 0.780952380952381\n"
     ]
    }
   ],
   "source": [
    "from sklearn.linear_model import LogisticRegression\n",
    "\n",
    "lr_clf = LogisticRegression(max_iter=3000)\n",
    "lr_clf.fit(X_train,y_train)\n",
    "\n",
    "print(\"Logistic Regression Score\",lr_clf.score(X_valid,y_valid))"
   ]
  },
  {
   "cell_type": "code",
   "execution_count": 38,
   "metadata": {},
   "outputs": [
    {
     "name": "stdout",
     "output_type": "stream",
     "text": [
      "0.6571428571428571\n"
     ]
    }
   ],
   "source": [
    "from sklearn.dummy import DummyClassifier\n",
    "\n",
    "dummy_clf = DummyClassifier(strategy='most_frequent')\n",
    "\n",
    "dummy_clf.fit(X_train, y_train)\n",
    "\n",
    "print(dummy_clf.score(X_valid, y_valid))"
   ]
  },
  {
   "cell_type": "code",
   "execution_count": 39,
   "metadata": {},
   "outputs": [],
   "source": [
    "from transformers import AutoModelForSequenceClassification\n",
    "\n",
    "num_labels = len(ds_original_from_hf['train'].features['label'].names)"
   ]
  },
  {
   "cell_type": "code",
   "execution_count": 40,
   "metadata": {},
   "outputs": [
    {
     "data": {
      "text/plain": [
       "4"
      ]
     },
     "execution_count": 40,
     "metadata": {},
     "output_type": "execute_result"
    }
   ],
   "source": [
    "num_labels"
   ]
  },
  {
   "cell_type": "code",
   "execution_count": 41,
   "metadata": {},
   "outputs": [
    {
     "name": "stderr",
     "output_type": "stream",
     "text": [
      "Some weights of the model checkpoint at distilbert-base-uncased were not used when initializing DistilBertForSequenceClassification: ['vocab_projector.bias', 'vocab_layer_norm.bias', 'vocab_layer_norm.weight', 'vocab_transform.weight', 'vocab_transform.bias']\n",
      "- This IS expected if you are initializing DistilBertForSequenceClassification from the checkpoint of a model trained on another task or with another architecture (e.g. initializing a BertForSequenceClassification model from a BertForPreTraining model).\n",
      "- This IS NOT expected if you are initializing DistilBertForSequenceClassification from the checkpoint of a model that you expect to be exactly identical (initializing a BertForSequenceClassification model from a BertForSequenceClassification model).\n",
      "Some weights of DistilBertForSequenceClassification were not initialized from the model checkpoint at distilbert-base-uncased and are newly initialized: ['pre_classifier.bias', 'classifier.bias', 'pre_classifier.weight', 'classifier.weight']\n",
      "You should probably TRAIN this model on a down-stream task to be able to use it for predictions and inference.\n"
     ]
    }
   ],
   "source": [
    "model = AutoModelForSequenceClassification.from_pretrained(model_ckpt,num_labels=num_labels)"
   ]
  },
  {
   "cell_type": "code",
   "execution_count": 42,
   "metadata": {},
   "outputs": [
    {
     "data": {
      "text/plain": [
       "DistilBertForSequenceClassification(\n",
       "  (distilbert): DistilBertModel(\n",
       "    (embeddings): Embeddings(\n",
       "      (word_embeddings): Embedding(30522, 768, padding_idx=0)\n",
       "      (position_embeddings): Embedding(512, 768)\n",
       "      (LayerNorm): LayerNorm((768,), eps=1e-12, elementwise_affine=True)\n",
       "      (dropout): Dropout(p=0.1, inplace=False)\n",
       "    )\n",
       "    (transformer): Transformer(\n",
       "      (layer): ModuleList(\n",
       "        (0-5): 6 x TransformerBlock(\n",
       "          (attention): MultiHeadSelfAttention(\n",
       "            (dropout): Dropout(p=0.1, inplace=False)\n",
       "            (q_lin): Linear(in_features=768, out_features=768, bias=True)\n",
       "            (k_lin): Linear(in_features=768, out_features=768, bias=True)\n",
       "            (v_lin): Linear(in_features=768, out_features=768, bias=True)\n",
       "            (out_lin): Linear(in_features=768, out_features=768, bias=True)\n",
       "          )\n",
       "          (sa_layer_norm): LayerNorm((768,), eps=1e-12, elementwise_affine=True)\n",
       "          (ffn): FFN(\n",
       "            (dropout): Dropout(p=0.1, inplace=False)\n",
       "            (lin1): Linear(in_features=768, out_features=3072, bias=True)\n",
       "            (lin2): Linear(in_features=3072, out_features=768, bias=True)\n",
       "            (activation): GELUActivation()\n",
       "          )\n",
       "          (output_layer_norm): LayerNorm((768,), eps=1e-12, elementwise_affine=True)\n",
       "        )\n",
       "      )\n",
       "    )\n",
       "  )\n",
       "  (pre_classifier): Linear(in_features=768, out_features=768, bias=True)\n",
       "  (classifier): Linear(in_features=768, out_features=4, bias=True)\n",
       "  (dropout): Dropout(p=0.2, inplace=False)\n",
       ")"
      ]
     },
     "execution_count": 42,
     "metadata": {},
     "output_type": "execute_result"
    }
   ],
   "source": [
    "model.to(device)"
   ]
  },
  {
   "cell_type": "code",
   "execution_count": 43,
   "metadata": {},
   "outputs": [],
   "source": [
    "from sklearn.metrics import accuracy_score,f1_score\n",
    "\n",
    "def compute_metric(pred):\n",
    "    # print('here')\n",
    "    labels = pred.label_ids\n",
    "    preds = pred.predictions.argmax(-1)\n",
    "    f1 = f1_score(labels,preds,average='weighted')\n",
    "    acc = accuracy_score(labels,preds)\n",
    "    return {'accuracy':acc,'f1':f1}"
   ]
  },
  {
   "cell_type": "code",
   "execution_count": 44,
   "metadata": {},
   "outputs": [],
   "source": [
    "from transformers import Trainer,TrainingArguments\n",
    "\n",
    "batch_size = 12\n",
    "logging_steps = len(ds_pretrained_fearures_encoded['train']) // batch_size\n",
    "\n",
    "model_name = f\"{model_ckpt}-finetune-poem\"\n",
    "training_args = TrainingArguments(\n",
    "    output_dir=model_name,\n",
    "    num_train_epochs=2,\n",
    "    learning_rate=2e-5,\n",
    "    per_device_train_batch_size=batch_size,\n",
    "    per_device_eval_batch_size=batch_size,\n",
    "    weight_decay=0.01,\n",
    "    evaluation_strategy=\"epoch\",\n",
    "    disable_tqdm=False,\n",
    "    logging_steps=logging_steps,\n",
    "    push_to_hub=False, \n",
    "    log_level=\"error\"\n",
    ")"
   ]
  },
  {
   "cell_type": "code",
   "execution_count": 50,
   "metadata": {},
   "outputs": [
    {
     "name": "stderr",
     "output_type": "stream",
     "text": [
      "/home/raj/.conda/envs/raj/lib/python3.11/site-packages/transformers/optimization.py:411: FutureWarning: This implementation of AdamW is deprecated and will be removed in a future version. Use the PyTorch implementation torch.optim.AdamW instead, or set `no_deprecation_warning=True` to disable this warning\n",
      "  warnings.warn(\n",
      "/home/raj/.conda/envs/raj/lib/python3.11/site-packages/torch/nn/parallel/_functions.py:68: UserWarning: Was asked to gather along dimension 0, but all input tensors were scalars; will instead unsqueeze and return a vector.\n",
      "  warnings.warn('Was asked to gather along dimension 0, but all '\n"
     ]
    },
    {
     "data": {
      "text/html": [
       "\n",
       "    <div>\n",
       "      \n",
       "      <progress value='76' max='76' style='width:300px; height:20px; vertical-align: middle;'></progress>\n",
       "      [76/76 00:06, Epoch 2/2]\n",
       "    </div>\n",
       "    <table border=\"1\" class=\"dataframe\">\n",
       "  <thead>\n",
       " <tr style=\"text-align: left;\">\n",
       "      <th>Epoch</th>\n",
       "      <th>Training Loss</th>\n",
       "      <th>Validation Loss</th>\n",
       "      <th>Accuracy</th>\n",
       "      <th>F1</th>\n",
       "    </tr>\n",
       "  </thead>\n",
       "  <tbody>\n",
       "    <tr>\n",
       "      <td>1</td>\n",
       "      <td>No log</td>\n",
       "      <td>0.458808</td>\n",
       "      <td>0.876190</td>\n",
       "      <td>0.871567</td>\n",
       "    </tr>\n",
       "    <tr>\n",
       "      <td>2</td>\n",
       "      <td>0.310200</td>\n",
       "      <td>0.454175</td>\n",
       "      <td>0.866667</td>\n",
       "      <td>0.856559</td>\n",
       "    </tr>\n",
       "  </tbody>\n",
       "</table><p>"
      ],
      "text/plain": [
       "<IPython.core.display.HTML object>"
      ]
     },
     "metadata": {},
     "output_type": "display_data"
    },
    {
     "name": "stderr",
     "output_type": "stream",
     "text": [
      "/home/raj/.conda/envs/raj/lib/python3.11/site-packages/torch/nn/parallel/_functions.py:68: UserWarning: Was asked to gather along dimension 0, but all input tensors were scalars; will instead unsqueeze and return a vector.\n",
      "  warnings.warn('Was asked to gather along dimension 0, but all '\n"
     ]
    },
    {
     "data": {
      "text/plain": [
       "TrainOutput(global_step=76, training_loss=0.31329036778525304, metrics={'train_runtime': 7.0658, 'train_samples_per_second': 252.483, 'train_steps_per_second': 10.756, 'total_flos': 12924311538432.0, 'train_loss': 0.31329036778525304, 'epoch': 2.0})"
      ]
     },
     "execution_count": 50,
     "metadata": {},
     "output_type": "execute_result"
    }
   ],
   "source": [
    "trainer = Trainer(model=model, args=training_args, compute_metrics=compute_metric,\n",
    "                  train_dataset = ds_pretrained_fearures_encoded['train'],\n",
    "                  eval_dataset = ds_pretrained_fearures_encoded[\"validation\"],\n",
    "                  tokenizer = tokenizer\n",
    "                  )\n",
    "trainer.train()"
   ]
  },
  {
   "cell_type": "code",
   "execution_count": 51,
   "metadata": {},
   "outputs": [
    {
     "name": "stderr",
     "output_type": "stream",
     "text": [
      "/home/raj/.conda/envs/raj/lib/python3.11/site-packages/torch/nn/parallel/_functions.py:68: UserWarning: Was asked to gather along dimension 0, but all input tensors were scalars; will instead unsqueeze and return a vector.\n",
      "  warnings.warn('Was asked to gather along dimension 0, but all '\n"
     ]
    },
    {
     "data": {
      "text/html": [],
      "text/plain": [
       "<IPython.core.display.HTML object>"
      ]
     },
     "metadata": {},
     "output_type": "display_data"
    }
   ],
   "source": [
    "preds_output = trainer.predict(ds_pretrained_fearures_encoded['validation'])"
   ]
  },
  {
   "cell_type": "code",
   "execution_count": 52,
   "metadata": {},
   "outputs": [
    {
     "data": {
      "text/plain": [
       "{'test_loss': 0.454174667596817,\n",
       " 'test_accuracy': 0.8666666666666667,\n",
       " 'test_f1': 0.8565594165594167,\n",
       " 'test_runtime': 0.2051,\n",
       " 'test_samples_per_second': 511.823,\n",
       " 'test_steps_per_second': 24.373}"
      ]
     },
     "execution_count": 52,
     "metadata": {},
     "output_type": "execute_result"
    }
   ],
   "source": [
    "preds_output.metrics"
   ]
  },
  {
   "cell_type": "code",
   "execution_count": 48,
   "metadata": {},
   "outputs": [],
   "source": [
    "from torch.nn.functional import cross_entropy\n",
    "\n",
    "def forward_pass_with_loss_and_label(batch):\n",
    "    \"\"\"\n",
    "    This function performs a forward pass through the model, computes the loss and predicts labels.\n",
    "\n",
    "    Args:\n",
    "        batch (Dict[str, torch.Tensor]): Dictionary containing the model inputs and labels.\n",
    "\n",
    "    Returns:\n",
    "        Dict[str, Union[torch.Tensor, np.ndarray]]: Dictionary with the computed loss and predicted labels.\n",
    "    \"\"\"\n",
    "    # Move the model inputs to the GPU (if available)\n",
    "    # This is necessary because the model itself is likely on the GPU\n",
    "    # Only model input names are included, other keys (e.g., 'labels') are ignored\n",
    "    inputs = {k: v.to(device) for k, v in batch.items() \n",
    "              if k in tokenizer.model_input_names }\n",
    "    \n",
    "    # Ensures that gradients are not computed, saving memory\n",
    "    with torch.no_grad():\n",
    "        # Forward pass through the model\n",
    "        output = model(**inputs)\n",
    "\n",
    "        # Predict labels by selecting the argmax of the logits along the last dimension\n",
    "        pred_label = torch.argmax(output.logits, axis=-1)\n",
    "\n",
    "        # Compute the cross-entropy loss between the logits and true labels\n",
    "        # reduction='none' ensures that we get a loss value for each sample, not the mean loss\n",
    "        loss = cross_entropy(output.logits, batch['label'].to(device), reduction='none')\n",
    "\n",
    "    # Returns the loss and predicted labels as numpy arrays\n",
    "    # These are moved to the CPU first, because numpy cannot handle GPU tensors\n",
    "    return {'loss': loss.cpu().numpy(), \n",
    "            'predicted_label': pred_label.cpu().numpy()}"
   ]
  },
  {
   "cell_type": "code",
   "execution_count": 53,
   "metadata": {},
   "outputs": [
    {
     "data": {
      "application/vnd.jupyter.widget-view+json": {
       "model_id": "89dc6eca1cb248a4a699cad20caf8fcd",
       "version_major": 2,
       "version_minor": 0
      },
      "text/plain": [
       "Map:   0%|          | 0/105 [00:00<?, ? examples/s]"
      ]
     },
     "metadata": {},
     "output_type": "display_data"
    }
   ],
   "source": [
    "ds_pretrained_fearures_encoded.set_format(\"torch\", \n",
    "                            columns=[\"input_ids\", \"attention_mask\", \"label\"])\n",
    "# Compute loss values\n",
    "ds_pretrained_fearures_encoded[\"validation\"] = ds_pretrained_fearures_encoded[\"validation\"].map(\n",
    "    forward_pass_with_loss_and_label, batched=True, batch_size=16)"
   ]
  },
  {
   "cell_type": "code",
   "execution_count": 54,
   "metadata": {},
   "outputs": [
    {
     "data": {
      "text/plain": [
       "Dataset({\n",
       "    features: ['id', 'verse_text', 'label', 'input_ids', 'attention_mask', 'loss', 'predicted_label'],\n",
       "    num_rows: 105\n",
       "})"
      ]
     },
     "execution_count": 54,
     "metadata": {},
     "output_type": "execute_result"
    }
   ],
   "source": [
    "ds_pretrained_fearures_encoded['validation']"
   ]
  },
  {
   "cell_type": "code",
   "execution_count": 56,
   "metadata": {},
   "outputs": [
    {
     "data": {
      "text/plain": [
       "tensor([0.0386, 0.7224, 1.0116, 0.9729, 0.1775, 1.8430, 4.5023, 0.1934, 0.0243,\n",
       "        0.0398, 0.0223, 0.2314, 0.0474, 0.8134, 0.0543, 0.0248, 0.0352, 0.0257,\n",
       "        0.0304, 0.0288, 0.0772, 0.0222, 2.4872, 0.0564, 0.0350, 0.0346, 0.0225,\n",
       "        0.0398, 0.0234, 0.0442, 0.1031, 0.0221, 0.0559, 0.0218, 0.0341, 0.0222,\n",
       "        0.0333, 0.0212, 0.0640, 0.0215, 0.0526, 4.1605, 0.1476, 0.0216, 0.0299,\n",
       "        0.0188, 0.0961, 0.0568, 0.0223, 0.0205, 0.1933, 0.0258, 2.6808, 0.0337,\n",
       "        0.0194, 0.1069, 0.0279, 0.1695, 0.2441, 0.3560, 0.0280, 0.0272, 0.1889,\n",
       "        4.9367, 0.0222, 0.4575, 4.4138, 1.1877, 0.0832, 0.0226, 0.2046, 0.1615,\n",
       "        0.1237, 3.6149, 0.0192, 0.0224, 0.0271, 0.0935, 0.1087, 0.1829, 3.3483,\n",
       "        0.0213, 0.0342, 0.2132, 0.2007, 0.0337, 0.1017, 0.1855, 0.0227, 0.0223,\n",
       "        0.0231, 0.2562, 0.0458, 1.7867, 0.0228, 0.1271, 0.0682, 1.9888, 0.0364,\n",
       "        0.3677, 0.0265, 0.0267, 0.0734, 0.1607, 0.1951])"
      ]
     },
     "execution_count": 56,
     "metadata": {},
     "output_type": "execute_result"
    }
   ],
   "source": [
    "ds_pretrained_fearures_encoded['validation']['loss']"
   ]
  },
  {
   "cell_type": "code",
   "execution_count": 57,
   "metadata": {},
   "outputs": [
    {
     "data": {
      "text/html": [
       "<div>\n",
       "<style scoped>\n",
       "    .dataframe tbody tr th:only-of-type {\n",
       "        vertical-align: middle;\n",
       "    }\n",
       "\n",
       "    .dataframe tbody tr th {\n",
       "        vertical-align: top;\n",
       "    }\n",
       "\n",
       "    .dataframe thead th {\n",
       "        text-align: right;\n",
       "    }\n",
       "</style>\n",
       "<table border=\"1\" class=\"dataframe\">\n",
       "  <thead>\n",
       "    <tr style=\"text-align: right;\">\n",
       "      <th></th>\n",
       "      <th>verse_text</th>\n",
       "      <th>label</th>\n",
       "      <th>predicted_label</th>\n",
       "      <th>loss</th>\n",
       "    </tr>\n",
       "  </thead>\n",
       "  <tbody>\n",
       "    <tr>\n",
       "      <th>63</th>\n",
       "      <td>on us lift up the light</td>\n",
       "      <td>positive</td>\n",
       "      <td>no_impact</td>\n",
       "      <td>4.936714</td>\n",
       "    </tr>\n",
       "    <tr>\n",
       "      <th>6</th>\n",
       "      <td>taking and giving radiance, and the slopes</td>\n",
       "      <td>positive</td>\n",
       "      <td>no_impact</td>\n",
       "      <td>4.502286</td>\n",
       "    </tr>\n",
       "    <tr>\n",
       "      <th>66</th>\n",
       "      <td>i kin eat in peace.</td>\n",
       "      <td>positive</td>\n",
       "      <td>no_impact</td>\n",
       "      <td>4.413753</td>\n",
       "    </tr>\n",
       "    <tr>\n",
       "      <th>41</th>\n",
       "      <td>alone went the fair-armed gudrun to her flower...</td>\n",
       "      <td>positive</td>\n",
       "      <td>no_impact</td>\n",
       "      <td>4.160498</td>\n",
       "    </tr>\n",
       "    <tr>\n",
       "      <th>73</th>\n",
       "      <td>willis sneered:</td>\n",
       "      <td>negative</td>\n",
       "      <td>no_impact</td>\n",
       "      <td>3.614947</td>\n",
       "    </tr>\n",
       "    <tr>\n",
       "      <th>80</th>\n",
       "      <td>strong tarchon snatch’d and bore away his prize.</td>\n",
       "      <td>positive</td>\n",
       "      <td>negative</td>\n",
       "      <td>3.348338</td>\n",
       "    </tr>\n",
       "    <tr>\n",
       "      <th>52</th>\n",
       "      <td>nor can express the love it knew,</td>\n",
       "      <td>negative</td>\n",
       "      <td>positive</td>\n",
       "      <td>2.680784</td>\n",
       "    </tr>\n",
       "    <tr>\n",
       "      <th>22</th>\n",
       "      <td>let fall on her a rose-leaf rain of dreams,</td>\n",
       "      <td>positive</td>\n",
       "      <td>no_impact</td>\n",
       "      <td>2.487198</td>\n",
       "    </tr>\n",
       "    <tr>\n",
       "      <th>97</th>\n",
       "      <td>with the freedom of lakes and lands.</td>\n",
       "      <td>positive</td>\n",
       "      <td>no_impact</td>\n",
       "      <td>1.988813</td>\n",
       "    </tr>\n",
       "    <tr>\n",
       "      <th>5</th>\n",
       "      <td>when the brow is cold as the marble stone,</td>\n",
       "      <td>negative</td>\n",
       "      <td>no_impact</td>\n",
       "      <td>1.843006</td>\n",
       "    </tr>\n",
       "  </tbody>\n",
       "</table>\n",
       "</div>"
      ],
      "text/plain": [
       "                                           verse_text     label  \\\n",
       "63                            on us lift up the light  positive   \n",
       "6          taking and giving radiance, and the slopes  positive   \n",
       "66                                i kin eat in peace.  positive   \n",
       "41  alone went the fair-armed gudrun to her flower...  positive   \n",
       "73                                    willis sneered:  negative   \n",
       "80   strong tarchon snatch’d and bore away his prize.  positive   \n",
       "52                  nor can express the love it knew,  negative   \n",
       "22        let fall on her a rose-leaf rain of dreams,  positive   \n",
       "97               with the freedom of lakes and lands.  positive   \n",
       "5          when the brow is cold as the marble stone,  negative   \n",
       "\n",
       "   predicted_label      loss  \n",
       "63       no_impact  4.936714  \n",
       "6        no_impact  4.502286  \n",
       "66       no_impact  4.413753  \n",
       "41       no_impact  4.160498  \n",
       "73       no_impact  3.614947  \n",
       "80        negative  3.348338  \n",
       "52        positive  2.680784  \n",
       "22       no_impact  2.487198  \n",
       "97       no_impact  1.988813  \n",
       "5        no_impact  1.843006  "
      ]
     },
     "execution_count": 57,
     "metadata": {},
     "output_type": "execute_result"
    }
   ],
   "source": [
    "def label_int2str(row):\n",
    "    return ds_original_from_hf['train'].features['label'].int2str(row)\n",
    "\n",
    "ds_pretrained_fearures_encoded.set_format(\"pandas\")\n",
    "\n",
    "cols = ['verse_text', \"label\", \"predicted_label\", \"loss\"]\n",
    "\n",
    "df_test = ds_pretrained_fearures_encoded[\"validation\"][:][cols]\n",
    "\n",
    "df_test[\"label\"] = df_test[\"label\"].apply(label_int2str)\n",
    "\n",
    "df_test[\"predicted_label\"] = (df_test[\"predicted_label\"]\n",
    "                              .apply(label_int2str))\n",
    "\n",
    "df_test.sort_values('loss', ascending=False ).head(10)"
   ]
  },
  {
   "cell_type": "code",
   "execution_count": 58,
   "metadata": {},
   "outputs": [
    {
     "data": {
      "text/html": [
       "<div>\n",
       "<style scoped>\n",
       "    .dataframe tbody tr th:only-of-type {\n",
       "        vertical-align: middle;\n",
       "    }\n",
       "\n",
       "    .dataframe tbody tr th {\n",
       "        vertical-align: top;\n",
       "    }\n",
       "\n",
       "    .dataframe thead th {\n",
       "        text-align: right;\n",
       "    }\n",
       "</style>\n",
       "<table border=\"1\" class=\"dataframe\">\n",
       "  <thead>\n",
       "    <tr style=\"text-align: right;\">\n",
       "      <th></th>\n",
       "      <th>verse_text</th>\n",
       "      <th>label</th>\n",
       "      <th>predicted_label</th>\n",
       "      <th>loss</th>\n",
       "    </tr>\n",
       "  </thead>\n",
       "  <tbody>\n",
       "    <tr>\n",
       "      <th>45</th>\n",
       "      <td>and i greet from far the ray,</td>\n",
       "      <td>no_impact</td>\n",
       "      <td>no_impact</td>\n",
       "      <td>0.018840</td>\n",
       "    </tr>\n",
       "    <tr>\n",
       "      <th>74</th>\n",
       "      <td>from the bed of minnehaha,</td>\n",
       "      <td>no_impact</td>\n",
       "      <td>no_impact</td>\n",
       "      <td>0.019156</td>\n",
       "    </tr>\n",
       "    <tr>\n",
       "      <th>54</th>\n",
       "      <td>might, looking up, see dian dip</td>\n",
       "      <td>no_impact</td>\n",
       "      <td>no_impact</td>\n",
       "      <td>0.019385</td>\n",
       "    </tr>\n",
       "    <tr>\n",
       "      <th>49</th>\n",
       "      <td>no, truly.--i will see her; tell my tale,</td>\n",
       "      <td>no_impact</td>\n",
       "      <td>no_impact</td>\n",
       "      <td>0.020535</td>\n",
       "    </tr>\n",
       "    <tr>\n",
       "      <th>37</th>\n",
       "      <td>why write i still all one, ever the same,</td>\n",
       "      <td>no_impact</td>\n",
       "      <td>no_impact</td>\n",
       "      <td>0.021162</td>\n",
       "    </tr>\n",
       "    <tr>\n",
       "      <th>81</th>\n",
       "      <td>under the self-same bough, and heard as there</td>\n",
       "      <td>no_impact</td>\n",
       "      <td>no_impact</td>\n",
       "      <td>0.021314</td>\n",
       "    </tr>\n",
       "    <tr>\n",
       "      <th>39</th>\n",
       "      <td>soon ez she gits out o' sight,</td>\n",
       "      <td>no_impact</td>\n",
       "      <td>no_impact</td>\n",
       "      <td>0.021468</td>\n",
       "    </tr>\n",
       "    <tr>\n",
       "      <th>43</th>\n",
       "      <td>breathe deep, and start, to see him pass the d...</td>\n",
       "      <td>no_impact</td>\n",
       "      <td>no_impact</td>\n",
       "      <td>0.021616</td>\n",
       "    </tr>\n",
       "    <tr>\n",
       "      <th>33</th>\n",
       "      <td>that in their holes abed at close of day</td>\n",
       "      <td>no_impact</td>\n",
       "      <td>no_impact</td>\n",
       "      <td>0.021817</td>\n",
       "    </tr>\n",
       "    <tr>\n",
       "      <th>31</th>\n",
       "      <td>did all of them bow downward towards that side</td>\n",
       "      <td>no_impact</td>\n",
       "      <td>no_impact</td>\n",
       "      <td>0.022070</td>\n",
       "    </tr>\n",
       "  </tbody>\n",
       "</table>\n",
       "</div>"
      ],
      "text/plain": [
       "                                           verse_text      label  \\\n",
       "45                      and i greet from far the ray,  no_impact   \n",
       "74                         from the bed of minnehaha,  no_impact   \n",
       "54                    might, looking up, see dian dip  no_impact   \n",
       "49          no, truly.--i will see her; tell my tale,  no_impact   \n",
       "37          why write i still all one, ever the same,  no_impact   \n",
       "81      under the self-same bough, and heard as there  no_impact   \n",
       "39                     soon ez she gits out o' sight,  no_impact   \n",
       "43  breathe deep, and start, to see him pass the d...  no_impact   \n",
       "33           that in their holes abed at close of day  no_impact   \n",
       "31     did all of them bow downward towards that side  no_impact   \n",
       "\n",
       "   predicted_label      loss  \n",
       "45       no_impact  0.018840  \n",
       "74       no_impact  0.019156  \n",
       "54       no_impact  0.019385  \n",
       "49       no_impact  0.020535  \n",
       "37       no_impact  0.021162  \n",
       "81       no_impact  0.021314  \n",
       "39       no_impact  0.021468  \n",
       "43       no_impact  0.021616  \n",
       "33       no_impact  0.021817  \n",
       "31       no_impact  0.022070  "
      ]
     },
     "execution_count": 58,
     "metadata": {},
     "output_type": "execute_result"
    }
   ],
   "source": [
    "df_test.sort_values('loss', ascending=True ).head(10)"
   ]
  },
  {
   "cell_type": "code",
   "execution_count": null,
   "metadata": {},
   "outputs": [],
   "source": []
  }
 ],
 "metadata": {
  "kernelspec": {
   "display_name": "raj",
   "language": "python",
   "name": "python3"
  },
  "language_info": {
   "codemirror_mode": {
    "name": "ipython",
    "version": 3
   },
   "file_extension": ".py",
   "mimetype": "text/x-python",
   "name": "python",
   "nbconvert_exporter": "python",
   "pygments_lexer": "ipython3",
   "version": "3.11.3"
  },
  "orig_nbformat": 4
 },
 "nbformat": 4,
 "nbformat_minor": 2
}
